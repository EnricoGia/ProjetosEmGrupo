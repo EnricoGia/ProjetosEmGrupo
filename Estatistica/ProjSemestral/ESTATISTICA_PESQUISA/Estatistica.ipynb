{
 "cells": [
  {
   "cell_type": "markdown",
   "metadata": {},
   "source": [
    "Pesquisa de estatistica\n",
    "\n",
    "\n",
    "importado dados dos csvs"
   ]
  },
  {
   "cell_type": "code",
   "execution_count": 145,
   "metadata": {},
   "outputs": [
    {
     "name": "stdout",
     "output_type": "stream",
     "text": [
      "Defaulting to user installation because normal site-packages is not writeable\n",
      "Requirement already satisfied: nbformat in c:\\users\\guerr\\appdata\\roaming\\python\\python310\\site-packages (5.4.0)\n",
      "Requirement already satisfied: jsonschema>=2.6 in c:\\users\\guerr\\appdata\\roaming\\python\\python310\\site-packages (from nbformat) (4.5.1)\n",
      "Requirement already satisfied: fastjsonschema in c:\\users\\guerr\\appdata\\roaming\\python\\python310\\site-packages (from nbformat) (2.15.3)\n",
      "Requirement already satisfied: jupyter-core in c:\\users\\guerr\\appdata\\roaming\\python\\python310\\site-packages (from nbformat) (4.10.0)\n",
      "Requirement already satisfied: traitlets>=5.1 in c:\\users\\guerr\\appdata\\roaming\\python\\python310\\site-packages (from nbformat) (5.2.1.post0)\n",
      "Requirement already satisfied: attrs>=17.4.0 in c:\\users\\guerr\\appdata\\roaming\\python\\python310\\site-packages (from jsonschema>=2.6->nbformat) (21.4.0)\n",
      "Requirement already satisfied: pyrsistent!=0.17.0,!=0.17.1,!=0.17.2,>=0.14.0 in c:\\users\\guerr\\appdata\\roaming\\python\\python310\\site-packages (from jsonschema>=2.6->nbformat) (0.18.1)\n",
      "Requirement already satisfied: pywin32>=1.0 in c:\\users\\guerr\\appdata\\roaming\\python\\python310\\site-packages (from jupyter-core->nbformat) (304)\n"
     ]
    },
    {
     "name": "stderr",
     "output_type": "stream",
     "text": [
      "WARNING: There was an error checking the latest version of pip.\n"
     ]
    }
   ],
   "source": [
    "\n",
    "!pip install nbformat \n",
    "import plotly.express as px\n",
    "import matplotlib.pyplot as plt\n"
   ]
  },
  {
   "cell_type": "code",
   "execution_count": 146,
   "metadata": {},
   "outputs": [],
   "source": [
    "\n",
    "#pip install pandas\n",
    "#pip install numpy\n",
    "\n",
    "import pandas as pd\n",
    "import numpy as np\n",
    "import math\n",
    "import seaborn as sns\n",
    "\n",
    "data=pd.read_csv('Serviços de assinaturas de jogos - Pesquisa .csv')\n",
    "gringoData=pd.read_csv('INGLES Serviços de assinaturas de jogos.csv')\n",
    "original=len(data)\n"
   ]
  },
  {
   "cell_type": "markdown",
   "metadata": {},
   "source": [
    "Olhando os dados obtidos da pesquisa"
   ]
  },
  {
   "cell_type": "code",
   "execution_count": 147,
   "metadata": {},
   "outputs": [
    {
     "data": {
      "text/html": [
       "<div>\n",
       "<style scoped>\n",
       "    .dataframe tbody tr th:only-of-type {\n",
       "        vertical-align: middle;\n",
       "    }\n",
       "\n",
       "    .dataframe tbody tr th {\n",
       "        vertical-align: top;\n",
       "    }\n",
       "\n",
       "    .dataframe thead th {\n",
       "        text-align: right;\n",
       "    }\n",
       "</style>\n",
       "<table border=\"1\" class=\"dataframe\">\n",
       "  <thead>\n",
       "    <tr style=\"text-align: right;\">\n",
       "      <th></th>\n",
       "      <th>Carimbo de data/hora</th>\n",
       "      <th>Qual é sua idade?</th>\n",
       "      <th>Qual é seu gênero?</th>\n",
       "      <th>Qual é sua ocupação?</th>\n",
       "      <th>Qual é seu estado civil?</th>\n",
       "      <th>Qual é seu nível de inglês?</th>\n",
       "      <th>Têm filhos?</th>\n",
       "      <th>Você joga vídeogames?</th>\n",
       "      <th>Quanto(s) jogos você comprou nos últimos 3 meses?</th>\n",
       "      <th>Qual(is) seu(s) gêneros de jogo favorito?</th>\n",
       "      <th>Prefere jogos em qual mídia?</th>\n",
       "      <th>Qual(is) desse(s) critério(s) você considera importante ao comprar um jogo?</th>\n",
       "      <th>Assina algum serviço de assinatura de jogos?</th>\n",
       "      <th>Qual(is)?</th>\n",
       "      <th>Quanto pagaria em um serviço de assinatura de jogos por mês em (R$)?</th>\n",
       "    </tr>\n",
       "  </thead>\n",
       "  <tbody>\n",
       "    <tr>\n",
       "      <th>0</th>\n",
       "      <td>2022/05/12 4:26:30 PM GMT-3</td>\n",
       "      <td>20</td>\n",
       "      <td>Feminino</td>\n",
       "      <td>Estudante</td>\n",
       "      <td>Solteira(o)</td>\n",
       "      <td>Fluente</td>\n",
       "      <td>Não</td>\n",
       "      <td>Sim</td>\n",
       "      <td>0.0</td>\n",
       "      <td>Ação/Aventura</td>\n",
       "      <td>Mídia digital</td>\n",
       "      <td>Indiferente</td>\n",
       "      <td>Não</td>\n",
       "      <td>NaN</td>\n",
       "      <td>Não pagaria</td>\n",
       "    </tr>\n",
       "  </tbody>\n",
       "</table>\n",
       "</div>"
      ],
      "text/plain": [
       "          Carimbo de data/hora  Qual é sua idade? Qual é seu gênero?  \\\n",
       "0  2022/05/12 4:26:30 PM GMT-3                 20           Feminino   \n",
       "\n",
       "  Qual é sua ocupação? Qual é seu estado civil?  Qual é seu nível de inglês?  \\\n",
       "0            Estudante               Solteira(o)                     Fluente   \n",
       "\n",
       "  Têm filhos? Você joga vídeogames?  \\\n",
       "0         Não                   Sim   \n",
       "\n",
       "   Quanto(s) jogos você comprou nos últimos 3 meses?  \\\n",
       "0                                                0.0   \n",
       "\n",
       "  Qual(is) seu(s) gêneros de jogo favorito?  Prefere jogos em qual mídia?  \\\n",
       "0                              Ação/Aventura                Mídia digital   \n",
       "\n",
       "  Qual(is) desse(s) critério(s) você considera importante ao comprar um jogo?  \\\n",
       "0                                        Indiferente                            \n",
       "\n",
       "  Assina algum serviço de assinatura de jogos?  Qual(is)?  \\\n",
       "0                                           Não       NaN   \n",
       "\n",
       "  Quanto pagaria em um serviço de assinatura de jogos por mês em (R$)?  \n",
       "0                                        Não pagaria                    "
      ]
     },
     "execution_count": 147,
     "metadata": {},
     "output_type": "execute_result"
    }
   ],
   "source": [
    "data.head(1)"
   ]
  },
  {
   "cell_type": "code",
   "execution_count": 148,
   "metadata": {},
   "outputs": [
    {
     "data": {
      "text/html": [
       "<div>\n",
       "<style scoped>\n",
       "    .dataframe tbody tr th:only-of-type {\n",
       "        vertical-align: middle;\n",
       "    }\n",
       "\n",
       "    .dataframe tbody tr th {\n",
       "        vertical-align: top;\n",
       "    }\n",
       "\n",
       "    .dataframe thead th {\n",
       "        text-align: right;\n",
       "    }\n",
       "</style>\n",
       "<table border=\"1\" class=\"dataframe\">\n",
       "  <thead>\n",
       "    <tr style=\"text-align: right;\">\n",
       "      <th></th>\n",
       "      <th>Carimbo de data/hora</th>\n",
       "      <th>How old are you?</th>\n",
       "      <th>What's your gender?</th>\n",
       "      <th>What's your occupation?</th>\n",
       "      <th>What's your marital status?</th>\n",
       "      <th>What's your level of English?</th>\n",
       "      <th>Do you have kids?</th>\n",
       "      <th>Do you play videogames?</th>\n",
       "      <th>How many games did you bought in the last 3 mounts?</th>\n",
       "      <th>Which are your favorite game genre?</th>\n",
       "      <th>Which type of media do you prefer?</th>\n",
       "      <th>Which criteria do you consider before buying a game?</th>\n",
       "      <th>Do you pay for any game membership?</th>\n",
       "      <th>Which of the following?</th>\n",
       "      <th>How much would you pay for a monthly game membership USD($)?</th>\n",
       "    </tr>\n",
       "  </thead>\n",
       "  <tbody>\n",
       "    <tr>\n",
       "      <th>0</th>\n",
       "      <td>2022/05/15 4:06:23 PM GMT-3</td>\n",
       "      <td>19</td>\n",
       "      <td>Masculine</td>\n",
       "      <td>Student</td>\n",
       "      <td>Single</td>\n",
       "      <td>Fluent</td>\n",
       "      <td>No</td>\n",
       "      <td>Yes</td>\n",
       "      <td>4</td>\n",
       "      <td>Action/Adventure;Race;FPS;Fighting game;RPG</td>\n",
       "      <td>Digital media</td>\n",
       "      <td>Sale;Price;Quality</td>\n",
       "      <td>No</td>\n",
       "      <td>NaN</td>\n",
       "      <td>Wouldn't pay</td>\n",
       "    </tr>\n",
       "  </tbody>\n",
       "</table>\n",
       "</div>"
      ],
      "text/plain": [
       "          Carimbo de data/hora  How old are you? What's your gender?  \\\n",
       "0  2022/05/15 4:06:23 PM GMT-3                19           Masculine   \n",
       "\n",
       "  What's your occupation? What's your marital status?  \\\n",
       "0                 Student                      Single   \n",
       "\n",
       "  What's your level of English? Do you have kids? Do you play videogames?  \\\n",
       "0                        Fluent                No                     Yes   \n",
       "\n",
       "   How many games did you bought in the last 3 mounts?   \\\n",
       "0                                                  4      \n",
       "\n",
       "          Which are your favorite game genre?   \\\n",
       "0  Action/Adventure;Race;FPS;Fighting game;RPG   \n",
       "\n",
       "  Which type of media do you prefer?   \\\n",
       "0                       Digital media   \n",
       "\n",
       "  Which criteria do you consider before buying a game?  \\\n",
       "0                                 Sale;Price;Quality     \n",
       "\n",
       "  Do you pay for any game membership? Which of the following?  \\\n",
       "0                                  No                     NaN   \n",
       "\n",
       "  How much would you pay for a monthly game membership USD($)?  \n",
       "0                                       Wouldn't pay            "
      ]
     },
     "execution_count": 148,
     "metadata": {},
     "output_type": "execute_result"
    }
   ],
   "source": [
    "gringoData.head(1)"
   ]
  },
  {
   "cell_type": "markdown",
   "metadata": {},
   "source": [
    "Renomeando os titulos"
   ]
  },
  {
   "cell_type": "code",
   "execution_count": 149,
   "metadata": {},
   "outputs": [
    {
     "name": "stdout",
     "output_type": "stream",
     "text": [
      "removido\n"
     ]
    }
   ],
   "source": [
    "if(data.columns[0]=='Carimbo de data/hora'):\n",
    "    data.drop(\"Carimbo de data/hora\", axis=1, inplace=True)\n",
    "    gringoData.drop(\"Carimbo de data/hora\", axis=1, inplace=True)\n",
    "    print(\"removido\")"
   ]
  },
  {
   "cell_type": "code",
   "execution_count": 150,
   "metadata": {},
   "outputs": [],
   "source": [
    "titulos=['idade', \n",
    "        'genero',\n",
    "       'ocupacao',\n",
    "        'estado',# estado civil\n",
    "       'ingles', # nivel de ingles\n",
    "       'filhos', # tem filhos\n",
    "       'joga',   #joga videogames?\n",
    "       'quant_jogos',#quantos jogos voce comprou?\n",
    "       'fav_jogos',#titulo favorito                                              (falta traduzir os titulos)\n",
    "       'midia',     #prefere qual midia de jogos (fisica/digita)\n",
    "       'importante_jogo',\n",
    "       'assina', \n",
    "       'quais',#o que assina \n",
    "       'paga' # quanto ira pagar\n",
    "       ]\n",
    "\n"
   ]
  },
  {
   "cell_type": "markdown",
   "metadata": {},
   "source": [
    "O tempo e hora da resposta é irrelevante para a pequisa entao iremos removelos\n",
    "\n",
    "Como temos dados em duas linguas iremos traduzir as perguntas e dados para o PORTUGUES"
   ]
  },
  {
   "cell_type": "code",
   "execution_count": 151,
   "metadata": {},
   "outputs": [
    {
     "name": "stdout",
     "output_type": "stream",
     "text": [
      "[ True  True  True  True  True  True  True  True  True  True  True  True\n",
      "  True  True]\n"
     ]
    },
    {
     "data": {
      "text/html": [
       "<div>\n",
       "<style scoped>\n",
       "    .dataframe tbody tr th:only-of-type {\n",
       "        vertical-align: middle;\n",
       "    }\n",
       "\n",
       "    .dataframe tbody tr th {\n",
       "        vertical-align: top;\n",
       "    }\n",
       "\n",
       "    .dataframe thead th {\n",
       "        text-align: right;\n",
       "    }\n",
       "</style>\n",
       "<table border=\"1\" class=\"dataframe\">\n",
       "  <thead>\n",
       "    <tr style=\"text-align: right;\">\n",
       "      <th></th>\n",
       "      <th>idade</th>\n",
       "      <th>genero</th>\n",
       "      <th>ocupacao</th>\n",
       "      <th>estado</th>\n",
       "      <th>ingles</th>\n",
       "      <th>filhos</th>\n",
       "      <th>joga</th>\n",
       "      <th>quant_jogos</th>\n",
       "      <th>fav_jogos</th>\n",
       "      <th>midia</th>\n",
       "      <th>importante_jogo</th>\n",
       "      <th>assina</th>\n",
       "      <th>quais</th>\n",
       "      <th>paga</th>\n",
       "    </tr>\n",
       "  </thead>\n",
       "  <tbody>\n",
       "    <tr>\n",
       "      <th>0</th>\n",
       "      <td>20</td>\n",
       "      <td>Feminino</td>\n",
       "      <td>Estudante</td>\n",
       "      <td>Solteira(o)</td>\n",
       "      <td>Fluente</td>\n",
       "      <td>Não</td>\n",
       "      <td>Sim</td>\n",
       "      <td>0.0</td>\n",
       "      <td>Ação/Aventura</td>\n",
       "      <td>Mídia digital</td>\n",
       "      <td>Indiferente</td>\n",
       "      <td>Não</td>\n",
       "      <td>NaN</td>\n",
       "      <td>Não pagaria</td>\n",
       "    </tr>\n",
       "  </tbody>\n",
       "</table>\n",
       "</div>"
      ],
      "text/plain": [
       "   idade    genero   ocupacao       estado   ingles filhos joga  quant_jogos  \\\n",
       "0     20  Feminino  Estudante  Solteira(o)  Fluente    Não  Sim          0.0   \n",
       "\n",
       "       fav_jogos          midia importante_jogo assina quais         paga  \n",
       "0  Ação/Aventura  Mídia digital     Indiferente    Não   NaN  Não pagaria  "
      ]
     },
     "execution_count": 151,
     "metadata": {},
     "output_type": "execute_result"
    }
   ],
   "source": [
    "data.columns=titulos\n",
    "gringoData.columns=titulos\n",
    "print(data.columns==gringoData.columns)\n",
    "data.head(1)"
   ]
  },
  {
   "cell_type": "code",
   "execution_count": 152,
   "metadata": {},
   "outputs": [
    {
     "name": "stdout",
     "output_type": "stream",
     "text": [
      "['Feminino' 'Masculino' 'Outros' 'Prefiro não informar']\n",
      "['Estudante' 'Desempregado' 'Estudante;Desempregado'\n",
      " 'Estudante;Trabalhador' 'Estudante;ASTROFISICO' 'Autônomo/Freelacer'\n",
      " 'Trabalhador' 'Advogada' 'Aposentado' 'Empresario' 'Registrador Civil'\n",
      " 'Aposentado;Trabalhador' 'Empreendedor']\n",
      "['Solteira(o)' 'Casada(o)' 'Separada(o)' 'Viúva(o)']\n",
      "['Fluente' 'Intermediário' 'Avançado' 'Básico' 'Nenhum']\n",
      "['Não' 'Sim']\n",
      "['Sim' 'Não']\n",
      "[ 0.  1.  3. nan  4. 12.  9. 19.  2.  5. 11. 16.  6.]\n",
      "['Mídia digital' 'Mídia física' 'Indiferente' nan]\n",
      "['Indiferente' 'Desconto;Duração;Preço;Qualidade'\n",
      " 'Duração;Preço;Qualidade' 'Desconto;Preço;Qualidade' nan 'Qualidade'\n",
      " 'Desconto;Qualidade' 'Duração;Qualidade' 'Preço;Qualidade'\n",
      " 'Qualidade;Indiferente' 'Desconto;Duração;Preço;Qualidade;Indiferente'\n",
      " 'Desconto' 'Desconto;Duração;Qualidade' 'Desconto;Duração' 'Preço'\n",
      " 'Desconto;Preço']\n",
      "['Não' 'Sim' nan]\n",
      "[nan\n",
      " 'Game Pass;Prime gaming, epic games (não é pago, mas da jogos gratuitos)'\n",
      " 'Game Pass' 'Game Pass;Playstation Plus'\n",
      " 'EA Access/Origin Access;Game Pass'\n",
      " 'EA Access/Origin Access;Game Pass;Nintendo Switch Online;Ubisoft+'\n",
      " 'Playstation Plus' 'Twitch Prime' 'Assinatura WOW'\n",
      " 'Nintendo Switch Online' 'Game Pass;Nintendo Switch Online'\n",
      " 'Prime gaming' 'Game Pass;Android play '\n",
      " 'EA Access/Origin Access;Game Pass;Playstation Plus;Ubisoft+']\n",
      "['Não pagaria' '10 a 30' '30 a 50' nan '1 a 10' '50 a 70' '70 a 100']\n",
      "\n",
      "\n"
     ]
    }
   ],
   "source": [
    "i=1\n",
    "while i<8:\n",
    "    \n",
    "    print(data[titulos[i]].unique())\n",
    "    i=i+1\n",
    "\n",
    "i=9\n",
    "while i<len(gringoData.columns):\n",
    "    \n",
    "    print(data[titulos[i]].unique())\n",
    "    i=i+1\n",
    "\n",
    "print(\"\\n\")\n",
    "\n",
    "\n",
    "    \n"
   ]
  },
  {
   "cell_type": "code",
   "execution_count": 153,
   "metadata": {},
   "outputs": [
    {
     "name": "stdout",
     "output_type": "stream",
     "text": [
      "['Masculine' 'Feminine']\n",
      "['Student' 'Employed' 'Unemployed']\n",
      "['Single' 'Married']\n",
      "['Fluent' \"I'm a native English speaker\" 'Advanced']\n",
      "['No' 'Yes']\n",
      "['Yes']\n",
      "[4 3 1 5 2 0]\n",
      "['Digital media' 'Physical media' 'Indifferent']\n",
      "['Sale;Price;Quality' 'Price;Quality' 'Duration;Price;Quality' 'Quality'\n",
      " 'Duration' 'Indifferent']\n",
      "['No' 'Yes']\n",
      "[nan 'Playstation Plus'\n",
      " 'Game Pass;Nintendo Switch Online;Playstation Plus' 'Game Pass'\n",
      " 'EA Access/Origin Access;Game Pass']\n",
      "[\"Wouldn't pay\" '1 a 10' '10 a 30' '30 a 50']\n"
     ]
    }
   ],
   "source": [
    "i=1\n",
    "while i<8:\n",
    "    \n",
    "    print(gringoData[titulos[i]].unique())\n",
    "    i=i+1\n",
    "\n",
    "i=9\n",
    "while i<len(gringoData.columns):\n",
    "    \n",
    "    print(gringoData[titulos[i]].unique())\n",
    "    i=i+1"
   ]
  },
  {
   "cell_type": "code",
   "execution_count": 154,
   "metadata": {},
   "outputs": [
    {
     "data": {
      "text/html": [
       "<div>\n",
       "<style scoped>\n",
       "    .dataframe tbody tr th:only-of-type {\n",
       "        vertical-align: middle;\n",
       "    }\n",
       "\n",
       "    .dataframe tbody tr th {\n",
       "        vertical-align: top;\n",
       "    }\n",
       "\n",
       "    .dataframe thead th {\n",
       "        text-align: right;\n",
       "    }\n",
       "</style>\n",
       "<table border=\"1\" class=\"dataframe\">\n",
       "  <thead>\n",
       "    <tr style=\"text-align: right;\">\n",
       "      <th></th>\n",
       "      <th>idade</th>\n",
       "      <th>genero</th>\n",
       "      <th>ocupacao</th>\n",
       "      <th>estado</th>\n",
       "      <th>ingles</th>\n",
       "      <th>filhos</th>\n",
       "      <th>joga</th>\n",
       "      <th>quant_jogos</th>\n",
       "      <th>fav_jogos</th>\n",
       "      <th>midia</th>\n",
       "      <th>importante_jogo</th>\n",
       "      <th>assina</th>\n",
       "      <th>quais</th>\n",
       "      <th>paga</th>\n",
       "    </tr>\n",
       "  </thead>\n",
       "  <tbody>\n",
       "    <tr>\n",
       "      <th>0</th>\n",
       "      <td>19</td>\n",
       "      <td>Masculino</td>\n",
       "      <td>Estudante</td>\n",
       "      <td>Solteira(o)</td>\n",
       "      <td>Fluente</td>\n",
       "      <td>Não</td>\n",
       "      <td>Sim</td>\n",
       "      <td>4</td>\n",
       "      <td>Action/Adventure;Race;FPS;Fighting game;RPG</td>\n",
       "      <td>Mídia digital</td>\n",
       "      <td>Sale;Price;Quality</td>\n",
       "      <td>Não</td>\n",
       "      <td>NaN</td>\n",
       "      <td>Não pagaria</td>\n",
       "    </tr>\n",
       "    <tr>\n",
       "      <th>1</th>\n",
       "      <td>17</td>\n",
       "      <td>Masculino</td>\n",
       "      <td>Estudante</td>\n",
       "      <td>Solteira(o)</td>\n",
       "      <td>Tenho ingles nativo</td>\n",
       "      <td>Não</td>\n",
       "      <td>Sim</td>\n",
       "      <td>3</td>\n",
       "      <td>Strategy;RPG</td>\n",
       "      <td>Mídia digital</td>\n",
       "      <td>Price;Quality</td>\n",
       "      <td>Não</td>\n",
       "      <td>NaN</td>\n",
       "      <td>Não pagaria</td>\n",
       "    </tr>\n",
       "    <tr>\n",
       "      <th>2</th>\n",
       "      <td>18</td>\n",
       "      <td>Masculino</td>\n",
       "      <td>Estudante</td>\n",
       "      <td>Solteira(o)</td>\n",
       "      <td>Tenho ingles nativo</td>\n",
       "      <td>Não</td>\n",
       "      <td>Sim</td>\n",
       "      <td>1</td>\n",
       "      <td>Action/Adventure;Fighting game</td>\n",
       "      <td>Mídia física</td>\n",
       "      <td>Duration;Price;Quality</td>\n",
       "      <td>Sim</td>\n",
       "      <td>Playstation Plus</td>\n",
       "      <td>1 a 10 DOLAR</td>\n",
       "    </tr>\n",
       "  </tbody>\n",
       "</table>\n",
       "</div>"
      ],
      "text/plain": [
       "   idade     genero   ocupacao       estado               ingles filhos joga  \\\n",
       "0     19  Masculino  Estudante  Solteira(o)              Fluente    Não  Sim   \n",
       "1     17  Masculino  Estudante  Solteira(o)  Tenho ingles nativo    Não  Sim   \n",
       "2     18  Masculino  Estudante  Solteira(o)  Tenho ingles nativo    Não  Sim   \n",
       "\n",
       "   quant_jogos                                    fav_jogos          midia  \\\n",
       "0            4  Action/Adventure;Race;FPS;Fighting game;RPG  Mídia digital   \n",
       "1            3                                 Strategy;RPG  Mídia digital   \n",
       "2            1               Action/Adventure;Fighting game   Mídia física   \n",
       "\n",
       "          importante_jogo assina             quais          paga  \n",
       "0      Sale;Price;Quality    Não               NaN   Não pagaria  \n",
       "1           Price;Quality    Não               NaN   Não pagaria  \n",
       "2  Duration;Price;Quality    Sim  Playstation Plus  1 a 10 DOLAR  "
      ]
     },
     "execution_count": 154,
     "metadata": {},
     "output_type": "execute_result"
    }
   ],
   "source": [
    "tradutor={\n",
    "'Masculine':'Masculino',\n",
    "'Feminine' : 'Feminino',\n",
    "'Other'    :  'Outro',\n",
    "'I prefer to not inform'         :  'Prefiro não informar',\n",
    "'Student'   :   'Estudante',\n",
    "'Unemployed':   'Desempregado',\n",
    "'Employed':   'Trabalhador',\n",
    "'Single'    :  'Solteira(o)',\n",
    "'Maried'    :   'Casada(o)',\n",
    "'Fluent'    : \"Fluente\",\n",
    "\"I'm a native English speaker\"  : 'Tenho ingles nativo',\n",
    "'Advanced'  :   'Avançado',\n",
    "'No'        :   'Não',\n",
    "'Yes'       :   'Sim',\n",
    "'Digital media' :   'Mídia digital',\n",
    "'Physical media':   'Mídia física',\n",
    "'Indifferent'   :   'Indiferente',\n",
    "\"Wouldn't pay\"  :   'Não pagaria',\n",
    "'1 a 10'    :   '1 a 10 DOLAR',\n",
    "'10 a 30'    :   '10 a 30 DOLAR',\n",
    "'30 a 50'    :   '30 a 50 DOLAR',\n",
    "'50 a 70'    :   '50 a 70 DOLAR',\n",
    "'70 a 100'    :   '70 a 100 DOLAR',\n",
    "\n",
    "}\n",
    "gringoData=gringoData.replace(tradutor)\n",
    "gringoData.head(3)"
   ]
  },
  {
   "cell_type": "code",
   "execution_count": 155,
   "metadata": {},
   "outputs": [
    {
     "data": {
      "text/plain": [
       "0                    Ação/Aventura;Corrida;FPS;Luta;RPG\n",
       "1                                        Estrategia;RPG\n",
       "2                                    Ação/Aventura;Luta\n",
       "3       Ação/Aventura;Battle Royale;Esporte;Luta;Terror\n",
       "4                                              FPS;Luta\n",
       "5                              Ação/Aventura;Estrategia\n",
       "6     Ação/Aventura;Estrategia;FPS;RPG;Simulação;Ter...\n",
       "7                   Ação/Aventura;MOBA;Simulação;Terror\n",
       "8                                                   FPS\n",
       "9     Ação/Aventura;Battle Royale;Corrida;Estrategia...\n",
       "10                           Ação/Aventura;FPS;MOBA;RPG\n",
       "11                         Ação/Aventura;Estrategia;FPS\n",
       "12                                                  RPG\n",
       "Name: fav_jogos, dtype: object"
      ]
     },
     "execution_count": 155,
     "metadata": {},
     "output_type": "execute_result"
    }
   ],
   "source": [
    "def replace_all(text, dic):\n",
    "    for i, j in dic.items():\n",
    "        text = text.replace(i, j)\n",
    "    return text\n",
    "\n",
    "\n",
    "jogos={\n",
    "    'Action/Adventure'  : 'Ação/Aventura',\n",
    "    'Race'              : 'Corrida',\n",
    "    'Sport'             : 'Esporte',\n",
    "    'Strategy'          : 'Estrategia',\n",
    "    'Fighting game'     : 'Luta',\n",
    "    'Simulation'        : 'Simulação',\n",
    "    'Horror'            :  'Terror'\n",
    "\n",
    "}\n",
    "\n",
    "\n",
    "i=0\n",
    "\n",
    "while i<len(gringoData):\n",
    "\n",
    "    txt=gringoData['fav_jogos'][i]\n",
    "    x = replace_all(txt, jogos)\n",
    "    gringoData['fav_jogos']=gringoData['fav_jogos'].replace(gringoData['fav_jogos'][i],x)\n",
    "    i=i+1\n",
    "\n",
    "gringoData['fav_jogos']\n",
    "\n"
   ]
  },
  {
   "cell_type": "code",
   "execution_count": 156,
   "metadata": {},
   "outputs": [
    {
     "data": {
      "text/plain": [
       "0     Desconto;Preço;Qualidade\n",
       "1              Preço;Qualidade\n",
       "2      Duração;Preço;Qualidade\n",
       "3                    Qualidade\n",
       "4                    Qualidade\n",
       "5                      Duração\n",
       "6     Desconto;Preço;Qualidade\n",
       "7              Preço;Qualidade\n",
       "8                    Qualidade\n",
       "9              Preço;Qualidade\n",
       "10                 Indiferente\n",
       "11             Preço;Qualidade\n",
       "12                   Qualidade\n",
       "Name: importante_jogo, dtype: object"
      ]
     },
     "execution_count": 156,
     "metadata": {},
     "output_type": "execute_result"
    }
   ],
   "source": [
    "criterios={\n",
    "    'Sale'          :   'Desconto',\n",
    "    'Duration'      :   'Duração',\n",
    "    'Price'         :   'Preço',\n",
    "    'Quality'       :   'Qualidade',\n",
    "    'Indifferent'   :   'Indiferente',\n",
    "\n",
    "}\n",
    "\n",
    "\n",
    "i=0\n",
    "\n",
    "while i<len(gringoData):\n",
    "\n",
    "    txt=gringoData['importante_jogo'][i]\n",
    "    x = replace_all(txt, criterios)\n",
    "    gringoData['importante_jogo']=gringoData['importante_jogo'].replace(gringoData['importante_jogo'][i],x)\n",
    "    i=i+1\n",
    "\n",
    "gringoData['importante_jogo']"
   ]
  },
  {
   "cell_type": "code",
   "execution_count": 157,
   "metadata": {},
   "outputs": [
    {
     "name": "stderr",
     "output_type": "stream",
     "text": [
      "C:\\Users\\guerr\\AppData\\Local\\Temp\\ipykernel_2976\\1357929167.py:2: FutureWarning:\n",
      "\n",
      "The frame.append method is deprecated and will be removed from pandas in a future version. Use pandas.concat instead.\n",
      "\n"
     ]
    }
   ],
   "source": [
    "if(len(data)==original):\n",
    "    data=data.append(gringoData, ignore_index=True)#lembra de excluir o gringoData \n",
    "\n",
    "#data['quais'] = data['quais'].replace(np.nan, -1)\n",
    "i=0\n",
    "while i<len(titulos):\n",
    "    #data[titulos[i]] = data[titulos[i]].replace(np.nan, -1)#arrumar(n_joga aparece)\n",
    "    data[titulos[i]] = data[titulos[i]].replace('Não', 0)\n",
    "    data[titulos[i]] = data[titulos[i]].replace('Sim', 1)\n",
    "    i+=1"
   ]
  },
  {
   "cell_type": "code",
   "execution_count": 158,
   "metadata": {},
   "outputs": [
    {
     "data": {
      "text/html": [
       "<div>\n",
       "<style scoped>\n",
       "    .dataframe tbody tr th:only-of-type {\n",
       "        vertical-align: middle;\n",
       "    }\n",
       "\n",
       "    .dataframe tbody tr th {\n",
       "        vertical-align: top;\n",
       "    }\n",
       "\n",
       "    .dataframe thead th {\n",
       "        text-align: right;\n",
       "    }\n",
       "</style>\n",
       "<table border=\"1\" class=\"dataframe\">\n",
       "  <thead>\n",
       "    <tr style=\"text-align: right;\">\n",
       "      <th></th>\n",
       "      <th>idade</th>\n",
       "      <th>genero</th>\n",
       "      <th>ocupacao</th>\n",
       "      <th>estado</th>\n",
       "      <th>ingles</th>\n",
       "      <th>filhos</th>\n",
       "      <th>joga</th>\n",
       "      <th>quant_jogos</th>\n",
       "      <th>fav_jogos</th>\n",
       "      <th>midia</th>\n",
       "      <th>importante_jogo</th>\n",
       "      <th>assina</th>\n",
       "      <th>quais</th>\n",
       "      <th>paga</th>\n",
       "      <th>count</th>\n",
       "    </tr>\n",
       "  </thead>\n",
       "  <tbody>\n",
       "    <tr>\n",
       "      <th>164</th>\n",
       "      <td>18</td>\n",
       "      <td>Masculino</td>\n",
       "      <td>Desempregado</td>\n",
       "      <td>Solteira(o)</td>\n",
       "      <td>Tenho ingles nativo</td>\n",
       "      <td>0</td>\n",
       "      <td>1</td>\n",
       "      <td>4.0</td>\n",
       "      <td>Ação/Aventura;FPS;MOBA;RPG</td>\n",
       "      <td>Indiferente</td>\n",
       "      <td>Indiferente</td>\n",
       "      <td>1.0</td>\n",
       "      <td>EA Access/Origin Access;Game Pass</td>\n",
       "      <td>30 a 50 DOLAR</td>\n",
       "      <td>1.0</td>\n",
       "    </tr>\n",
       "    <tr>\n",
       "      <th>165</th>\n",
       "      <td>14</td>\n",
       "      <td>Masculino</td>\n",
       "      <td>Estudante</td>\n",
       "      <td>Solteira(o)</td>\n",
       "      <td>Tenho ingles nativo</td>\n",
       "      <td>0</td>\n",
       "      <td>1</td>\n",
       "      <td>5.0</td>\n",
       "      <td>Ação/Aventura;Estrategia;FPS</td>\n",
       "      <td>Indiferente</td>\n",
       "      <td>Preço;Qualidade</td>\n",
       "      <td>1.0</td>\n",
       "      <td>Game Pass</td>\n",
       "      <td>1 a 10 DOLAR</td>\n",
       "      <td>1.0</td>\n",
       "    </tr>\n",
       "    <tr>\n",
       "      <th>166</th>\n",
       "      <td>19</td>\n",
       "      <td>Masculino</td>\n",
       "      <td>Trabalhador</td>\n",
       "      <td>Solteira(o)</td>\n",
       "      <td>Tenho ingles nativo</td>\n",
       "      <td>0</td>\n",
       "      <td>1</td>\n",
       "      <td>0.0</td>\n",
       "      <td>RPG</td>\n",
       "      <td>Mídia digital</td>\n",
       "      <td>Qualidade</td>\n",
       "      <td>1.0</td>\n",
       "      <td>Game Pass</td>\n",
       "      <td>10 a 30 DOLAR</td>\n",
       "      <td>1.0</td>\n",
       "    </tr>\n",
       "  </tbody>\n",
       "</table>\n",
       "</div>"
      ],
      "text/plain": [
       "     idade     genero      ocupacao       estado               ingles  filhos  \\\n",
       "164     18  Masculino  Desempregado  Solteira(o)  Tenho ingles nativo       0   \n",
       "165     14  Masculino     Estudante  Solteira(o)  Tenho ingles nativo       0   \n",
       "166     19  Masculino   Trabalhador  Solteira(o)  Tenho ingles nativo       0   \n",
       "\n",
       "     joga  quant_jogos                     fav_jogos          midia  \\\n",
       "164     1          4.0    Ação/Aventura;FPS;MOBA;RPG    Indiferente   \n",
       "165     1          5.0  Ação/Aventura;Estrategia;FPS    Indiferente   \n",
       "166     1          0.0                           RPG  Mídia digital   \n",
       "\n",
       "     importante_jogo  assina                              quais  \\\n",
       "164      Indiferente     1.0  EA Access/Origin Access;Game Pass   \n",
       "165  Preço;Qualidade     1.0                          Game Pass   \n",
       "166        Qualidade     1.0                          Game Pass   \n",
       "\n",
       "              paga  count  \n",
       "164  30 a 50 DOLAR    1.0  \n",
       "165   1 a 10 DOLAR    1.0  \n",
       "166  10 a 30 DOLAR    1.0  "
      ]
     },
     "execution_count": 158,
     "metadata": {},
     "output_type": "execute_result"
    }
   ],
   "source": [
    "count=np.ones(len(data))\n",
    "data['count']=count\n",
    "data.tail(3)"
   ]
  },
  {
   "cell_type": "code",
   "execution_count": 159,
   "metadata": {},
   "outputs": [],
   "source": [
    "def plot_bar(data,variable):\n",
    "    varValue=data[variable].value_counts()\n",
    "    \n",
    "    plt.figure(figsize = (9,5))\n",
    "    plt.bar(varValue.index, varValue,color=\"#A984EA\",ec=\"#7332D6\")\n",
    "    plt.xticks(varValue.index, varValue.index.values)#o que isso siguinifica?? socorro\n",
    "    plt.ylabel(\"Frequency\")\n",
    "    plt.title(variable)\n",
    "    plt.show()\n"
   ]
  },
  {
   "cell_type": "code",
   "execution_count": 160,
   "metadata": {},
   "outputs": [],
   "source": [
    "def plot_hist(data,variable):\n",
    "    varValue=data[variable].value_counts()\n",
    "\n",
    "    plt.figure(figsize = (9,5))\n",
    "    plt.hist(data[variable],color=\"#0ABAB5\",bins=20)\n",
    "    plt.ylabel(\"Frequency\")\n",
    "    plt.xlabel(variable)\n",
    "    plt.title(variable+' distribution')\n",
    "    plt.show()"
   ]
  },
  {
   "cell_type": "code",
   "execution_count": 161,
   "metadata": {},
   "outputs": [],
   "source": [
    "categorias_todas=['idade','genero',\t'ocupacao',\t'estado','ingles','filhos','joga','quant_jogos','fav_jogos','midia','importante_jogo','assina','quais','paga','count']\n",
    "categorias0=['idade']\n",
    "categorias1=['genero',\t'ocupacao',\t'estado'\t,'ingles'\t,'filhos'\t,'joga'\t,'quant_jogos'\t,\t'assina']\n"
   ]
  },
  {
   "cell_type": "code",
   "execution_count": 162,
   "metadata": {},
   "outputs": [],
   "source": [
    "profInvalida={\n",
    "\n",
    "'Autônomo/Freelacer' : 'Trabalhador',\n",
    "'Advogada'          : 'Trabalhador',\n",
    "'Empresario'    : 'Trabalhador',\n",
    "\"Registrador Civil\" : 'Trabalhador',\n",
    "'Empreendedor': 'Trabalhador',\n",
    "'Estudante;ASTROFISICO': 'Trabalhador'\n",
    "}\n",
    "\n",
    "data=data.replace(profInvalida)\n"
   ]
  },
  {
   "cell_type": "code",
   "execution_count": 178,
   "metadata": {},
   "outputs": [
    {
     "data": {
      "text/html": [
       "<div>\n",
       "<style scoped>\n",
       "    .dataframe tbody tr th:only-of-type {\n",
       "        vertical-align: middle;\n",
       "    }\n",
       "\n",
       "    .dataframe tbody tr th {\n",
       "        vertical-align: top;\n",
       "    }\n",
       "\n",
       "    .dataframe thead th {\n",
       "        text-align: right;\n",
       "    }\n",
       "</style>\n",
       "<table border=\"1\" class=\"dataframe\">\n",
       "  <thead>\n",
       "    <tr style=\"text-align: right;\">\n",
       "      <th></th>\n",
       "      <th>idade</th>\n",
       "      <th>genero</th>\n",
       "      <th>ocupacao</th>\n",
       "      <th>estado</th>\n",
       "      <th>ingles</th>\n",
       "      <th>filhos</th>\n",
       "      <th>joga</th>\n",
       "      <th>quant_jogos</th>\n",
       "      <th>fav_jogos</th>\n",
       "      <th>midia</th>\n",
       "      <th>importante_jogo</th>\n",
       "      <th>assina</th>\n",
       "      <th>quais</th>\n",
       "      <th>paga</th>\n",
       "      <th>count</th>\n",
       "    </tr>\n",
       "  </thead>\n",
       "  <tbody>\n",
       "    <tr>\n",
       "      <th>0</th>\n",
       "      <td>20</td>\n",
       "      <td>Feminino</td>\n",
       "      <td>Estudante</td>\n",
       "      <td>Solteira(o)</td>\n",
       "      <td>Fluente</td>\n",
       "      <td>0</td>\n",
       "      <td>1</td>\n",
       "      <td>0.0</td>\n",
       "      <td>Ação/Aventura</td>\n",
       "      <td>Mídia digital</td>\n",
       "      <td>Indiferente</td>\n",
       "      <td>0.0</td>\n",
       "      <td>NaN</td>\n",
       "      <td>Não pagaria</td>\n",
       "      <td>1.0</td>\n",
       "    </tr>\n",
       "    <tr>\n",
       "      <th>1</th>\n",
       "      <td>20</td>\n",
       "      <td>Masculino</td>\n",
       "      <td>Estudante</td>\n",
       "      <td>Solteira(o)</td>\n",
       "      <td>Fluente</td>\n",
       "      <td>0</td>\n",
       "      <td>1</td>\n",
       "      <td>1.0</td>\n",
       "      <td>Ação/Aventura;Estratégia;RPG;Simulação</td>\n",
       "      <td>Mídia física</td>\n",
       "      <td>Desconto;Duração;Preço;Qualidade</td>\n",
       "      <td>0.0</td>\n",
       "      <td>NaN</td>\n",
       "      <td>10 a 30</td>\n",
       "      <td>1.0</td>\n",
       "    </tr>\n",
       "    <tr>\n",
       "      <th>2</th>\n",
       "      <td>20</td>\n",
       "      <td>Feminino</td>\n",
       "      <td>Estudante</td>\n",
       "      <td>Solteira(o)</td>\n",
       "      <td>Intermediário</td>\n",
       "      <td>0</td>\n",
       "      <td>1</td>\n",
       "      <td>1.0</td>\n",
       "      <td>Ação/Aventura;FPS;Simulação</td>\n",
       "      <td>Indiferente</td>\n",
       "      <td>Duração;Preço;Qualidade</td>\n",
       "      <td>0.0</td>\n",
       "      <td>NaN</td>\n",
       "      <td>10 a 30</td>\n",
       "      <td>1.0</td>\n",
       "    </tr>\n",
       "    <tr>\n",
       "      <th>3</th>\n",
       "      <td>20</td>\n",
       "      <td>Masculino</td>\n",
       "      <td>Estudante</td>\n",
       "      <td>Solteira(o)</td>\n",
       "      <td>Fluente</td>\n",
       "      <td>0</td>\n",
       "      <td>1</td>\n",
       "      <td>3.0</td>\n",
       "      <td>Ação/Aventura;Battle Royale;Corrida;Luta;RPG;S...</td>\n",
       "      <td>Indiferente</td>\n",
       "      <td>Desconto;Preço;Qualidade</td>\n",
       "      <td>1.0</td>\n",
       "      <td>Game Pass;Prime gaming, epic games (não é pago...</td>\n",
       "      <td>10 a 30</td>\n",
       "      <td>1.0</td>\n",
       "    </tr>\n",
       "    <tr>\n",
       "      <th>4</th>\n",
       "      <td>15</td>\n",
       "      <td>Masculino</td>\n",
       "      <td>Estudante</td>\n",
       "      <td>Casada(o)</td>\n",
       "      <td>Avançado</td>\n",
       "      <td>1</td>\n",
       "      <td>1</td>\n",
       "      <td>0.0</td>\n",
       "      <td>Estratégia;RPG</td>\n",
       "      <td>Indiferente</td>\n",
       "      <td>Desconto;Preço;Qualidade</td>\n",
       "      <td>1.0</td>\n",
       "      <td>Game Pass</td>\n",
       "      <td>30 a 50</td>\n",
       "      <td>1.0</td>\n",
       "    </tr>\n",
       "    <tr>\n",
       "      <th>...</th>\n",
       "      <td>...</td>\n",
       "      <td>...</td>\n",
       "      <td>...</td>\n",
       "      <td>...</td>\n",
       "      <td>...</td>\n",
       "      <td>...</td>\n",
       "      <td>...</td>\n",
       "      <td>...</td>\n",
       "      <td>...</td>\n",
       "      <td>...</td>\n",
       "      <td>...</td>\n",
       "      <td>...</td>\n",
       "      <td>...</td>\n",
       "      <td>...</td>\n",
       "      <td>...</td>\n",
       "    </tr>\n",
       "    <tr>\n",
       "      <th>162</th>\n",
       "      <td>20</td>\n",
       "      <td>Masculino</td>\n",
       "      <td>Trabalhador</td>\n",
       "      <td>Solteira(o)</td>\n",
       "      <td>Tenho ingles nativo</td>\n",
       "      <td>0</td>\n",
       "      <td>1</td>\n",
       "      <td>2.0</td>\n",
       "      <td>FPS</td>\n",
       "      <td>Indiferente</td>\n",
       "      <td>Qualidade</td>\n",
       "      <td>1.0</td>\n",
       "      <td>Game Pass</td>\n",
       "      <td>10 a 30 DOLAR</td>\n",
       "      <td>1.0</td>\n",
       "    </tr>\n",
       "    <tr>\n",
       "      <th>163</th>\n",
       "      <td>29</td>\n",
       "      <td>Masculino</td>\n",
       "      <td>Trabalhador</td>\n",
       "      <td>Married</td>\n",
       "      <td>Tenho ingles nativo</td>\n",
       "      <td>1</td>\n",
       "      <td>1</td>\n",
       "      <td>0.0</td>\n",
       "      <td>Ação/Aventura;Battle Royale;Corrida;Estrategia...</td>\n",
       "      <td>Mídia digital</td>\n",
       "      <td>Preço;Qualidade</td>\n",
       "      <td>1.0</td>\n",
       "      <td>Game Pass</td>\n",
       "      <td>10 a 30 DOLAR</td>\n",
       "      <td>1.0</td>\n",
       "    </tr>\n",
       "    <tr>\n",
       "      <th>164</th>\n",
       "      <td>18</td>\n",
       "      <td>Masculino</td>\n",
       "      <td>Desempregado</td>\n",
       "      <td>Solteira(o)</td>\n",
       "      <td>Tenho ingles nativo</td>\n",
       "      <td>0</td>\n",
       "      <td>1</td>\n",
       "      <td>4.0</td>\n",
       "      <td>Ação/Aventura;FPS;MOBA;RPG</td>\n",
       "      <td>Indiferente</td>\n",
       "      <td>Indiferente</td>\n",
       "      <td>1.0</td>\n",
       "      <td>EA Access/Origin Access;Game Pass</td>\n",
       "      <td>30 a 50 DOLAR</td>\n",
       "      <td>1.0</td>\n",
       "    </tr>\n",
       "    <tr>\n",
       "      <th>165</th>\n",
       "      <td>14</td>\n",
       "      <td>Masculino</td>\n",
       "      <td>Estudante</td>\n",
       "      <td>Solteira(o)</td>\n",
       "      <td>Tenho ingles nativo</td>\n",
       "      <td>0</td>\n",
       "      <td>1</td>\n",
       "      <td>5.0</td>\n",
       "      <td>Ação/Aventura;Estrategia;FPS</td>\n",
       "      <td>Indiferente</td>\n",
       "      <td>Preço;Qualidade</td>\n",
       "      <td>1.0</td>\n",
       "      <td>Game Pass</td>\n",
       "      <td>1 a 10 DOLAR</td>\n",
       "      <td>1.0</td>\n",
       "    </tr>\n",
       "    <tr>\n",
       "      <th>166</th>\n",
       "      <td>19</td>\n",
       "      <td>Masculino</td>\n",
       "      <td>Trabalhador</td>\n",
       "      <td>Solteira(o)</td>\n",
       "      <td>Tenho ingles nativo</td>\n",
       "      <td>0</td>\n",
       "      <td>1</td>\n",
       "      <td>0.0</td>\n",
       "      <td>RPG</td>\n",
       "      <td>Mídia digital</td>\n",
       "      <td>Qualidade</td>\n",
       "      <td>1.0</td>\n",
       "      <td>Game Pass</td>\n",
       "      <td>10 a 30 DOLAR</td>\n",
       "      <td>1.0</td>\n",
       "    </tr>\n",
       "  </tbody>\n",
       "</table>\n",
       "<p>167 rows × 15 columns</p>\n",
       "</div>"
      ],
      "text/plain": [
       "     idade     genero      ocupacao       estado               ingles  filhos  \\\n",
       "0       20   Feminino     Estudante  Solteira(o)              Fluente       0   \n",
       "1       20  Masculino     Estudante  Solteira(o)              Fluente       0   \n",
       "2       20   Feminino     Estudante  Solteira(o)        Intermediário       0   \n",
       "3       20  Masculino     Estudante  Solteira(o)              Fluente       0   \n",
       "4       15  Masculino     Estudante    Casada(o)             Avançado       1   \n",
       "..     ...        ...           ...          ...                  ...     ...   \n",
       "162     20  Masculino   Trabalhador  Solteira(o)  Tenho ingles nativo       0   \n",
       "163     29  Masculino   Trabalhador      Married  Tenho ingles nativo       1   \n",
       "164     18  Masculino  Desempregado  Solteira(o)  Tenho ingles nativo       0   \n",
       "165     14  Masculino     Estudante  Solteira(o)  Tenho ingles nativo       0   \n",
       "166     19  Masculino   Trabalhador  Solteira(o)  Tenho ingles nativo       0   \n",
       "\n",
       "     joga  quant_jogos                                          fav_jogos  \\\n",
       "0       1          0.0                                      Ação/Aventura   \n",
       "1       1          1.0             Ação/Aventura;Estratégia;RPG;Simulação   \n",
       "2       1          1.0                        Ação/Aventura;FPS;Simulação   \n",
       "3       1          3.0  Ação/Aventura;Battle Royale;Corrida;Luta;RPG;S...   \n",
       "4       1          0.0                                     Estratégia;RPG   \n",
       "..    ...          ...                                                ...   \n",
       "162     1          2.0                                                FPS   \n",
       "163     1          0.0  Ação/Aventura;Battle Royale;Corrida;Estrategia...   \n",
       "164     1          4.0                         Ação/Aventura;FPS;MOBA;RPG   \n",
       "165     1          5.0                       Ação/Aventura;Estrategia;FPS   \n",
       "166     1          0.0                                                RPG   \n",
       "\n",
       "             midia                   importante_jogo  assina  \\\n",
       "0    Mídia digital                       Indiferente     0.0   \n",
       "1     Mídia física  Desconto;Duração;Preço;Qualidade     0.0   \n",
       "2      Indiferente           Duração;Preço;Qualidade     0.0   \n",
       "3      Indiferente          Desconto;Preço;Qualidade     1.0   \n",
       "4      Indiferente          Desconto;Preço;Qualidade     1.0   \n",
       "..             ...                               ...     ...   \n",
       "162    Indiferente                         Qualidade     1.0   \n",
       "163  Mídia digital                   Preço;Qualidade     1.0   \n",
       "164    Indiferente                       Indiferente     1.0   \n",
       "165    Indiferente                   Preço;Qualidade     1.0   \n",
       "166  Mídia digital                         Qualidade     1.0   \n",
       "\n",
       "                                                 quais           paga  count  \n",
       "0                                                  NaN    Não pagaria    1.0  \n",
       "1                                                  NaN        10 a 30    1.0  \n",
       "2                                                  NaN        10 a 30    1.0  \n",
       "3    Game Pass;Prime gaming, epic games (não é pago...        10 a 30    1.0  \n",
       "4                                            Game Pass        30 a 50    1.0  \n",
       "..                                                 ...            ...    ...  \n",
       "162                                          Game Pass  10 a 30 DOLAR    1.0  \n",
       "163                                          Game Pass  10 a 30 DOLAR    1.0  \n",
       "164                  EA Access/Origin Access;Game Pass  30 a 50 DOLAR    1.0  \n",
       "165                                          Game Pass   1 a 10 DOLAR    1.0  \n",
       "166                                          Game Pass  10 a 30 DOLAR    1.0  \n",
       "\n",
       "[167 rows x 15 columns]"
      ]
     },
     "execution_count": 178,
     "metadata": {},
     "output_type": "execute_result"
    }
   ],
   "source": [
    "#tabela gamer\n",
    "#tabela noraml\n",
    "\n",
    "dataNOR=data\n",
    "dataGAMER=data\n"
   ]
  },
  {
   "cell_type": "code",
   "execution_count": 163,
   "metadata": {},
   "outputs": [
    {
     "data": {
      "image/png": "[encoded data removed]",
      "text/plain": [
       "<Figure size 648x360 with 1 Axes>"
      ]
     },
     "metadata": {
      "needs_background": "light"
     },
     "output_type": "display_data"
    }
   ],
   "source": [
    "for c in categorias0:\n",
    "    plot_hist(data,c)"
   ]
  },
  {
   "cell_type": "code",
   "execution_count": 164,
   "metadata": {},
   "outputs": [
    {
     "data": {
      "image/png": "[encoded data removed]",
      "text/plain": [
       "<Figure size 648x360 with 1 Axes>"
      ]
     },
     "metadata": {
      "needs_background": "light"
     },
     "output_type": "display_data"
    },
    {
     "data": {
      "image/png": "[encoded data removed]",
      "text/plain": [
       "<Figure size 648x360 with 1 Axes>"
      ]
     },
     "metadata": {
      "needs_background": "light"
     },
     "output_type": "display_data"
    },
    {
     "data": {
      "image/png": "[encoded data removed]",
      "text/plain": [
       "<Figure size 648x360 with 1 Axes>"
      ]
     },
     "metadata": {
      "needs_background": "light"
     },
     "output_type": "display_data"
    },
    {
     "data": {
      "image/png": "[encoded data removed]",
      "text/plain": [
       "<Figure size 648x360 with 1 Axes>"
      ]
     },
     "metadata": {
      "needs_background": "light"
     },
     "output_type": "display_data"
    },
    {
     "data": {
      "image/png": "[encoded data removed]",
      "text/plain": [
       "<Figure size 648x360 with 1 Axes>"
      ]
     },
     "metadata": {
      "needs_background": "light"
     },
     "output_type": "display_data"
    },
    {
     "data": {
      "image/png": "[encoded data removed]",
      "text/plain": [
       "<Figure size 648x360 with 1 Axes>"
      ]
     },
     "metadata": {
      "needs_background": "light"
     },
     "output_type": "display_data"
    },
    {
     "data": {
      "image/png": "[encoded data removed]",
      "text/plain": [
       "<Figure size 648x360 with 1 Axes>"
      ]
     },
     "metadata": {
      "needs_background": "light"
     },
     "output_type": "display_data"
    },
    {
     "data": {
      "image/png": "[encoded data removed]",
      "text/plain": [
       "<Figure size 648x360 with 1 Axes>"
      ]
     },
     "metadata": {
      "needs_background": "light"
     },
     "output_type": "display_data"
    }
   ],
   "source": [
    "for c in categorias1:\n",
    "    plot_bar(data,c)"
   ]
  },
  {
   "cell_type": "code",
   "execution_count": 165,
   "metadata": {},
   "outputs": [],
   "source": [
    "idade=px.bar(data, x='idade',y=\"count\")\n",
    "joga=px.histogram(data, x=\"idade\", color=\"joga\")\n",
    "sex=px.pie(data, values='count', names='genero')"
   ]
  },
  {
   "cell_type": "code",
   "execution_count": 166,
   "metadata": {},
   "outputs": [
    {
     "data": {
      "application/vnd.plotly.v1+json": {
       "config": {
        "plotlyServerURL": "https://plot.ly"
       },
       "data": [
        {
         "alignmentgroup": "True",
         "bingroup": "x",
         "hovertemplate": "joga=1<br>idade=%{x}<br>count=%{y}<extra></extra>",
         "legendgroup": "1",
         "marker": {
          "color": "#636efa",
          "pattern": {
           "shape": ""
          }
         },
         "name": "1",
         "offsetgroup": "1",
         "orientation": "v",
         "showlegend": true,
         "type": "histogram",
         "x": [
          20,
          20,
          20,
          20,
          15,
          20,
          21,
          20,
          19,
          21,
          20,
          19,
          20,
          20,
          20,
          15,
          18,
          16,
          15,
          16,
          16,
          20,
          20,
          19,
          20,
          21,
          19,
          20,
          16,
          16,
          19,
          20,
          19,
          21,
          21,
          15,
          19,
          23,
          16,
          18,
          18,
          18,
          19,
          19,
          19,
          18,
          20,
          24,
          26,
          20,
          20,
          19,
          18,
          19,
          18,
          21,
          57,
          38,
          15,
          20,
          36,
          22,
          78,
          38,
          21,
          38,
          15,
          15,
          25,
          42,
          15,
          38,
          27,
          29,
          29,
          20,
          37,
          21,
          33,
          19,
          23,
          26,
          28,
          38,
          20,
          25,
          18,
          21,
          42,
          18,
          17,
          18,
          19,
          17,
          59,
          16,
          15,
          15,
          27,
          23,
          51,
          18,
          21,
          15,
          19,
          19,
          17,
          18,
          19,
          15,
          17,
          21,
          17,
          20,
          29,
          18,
          14,
          19
         ],
         "xaxis": "x",
         "yaxis": "y"
        },
        {
         "alignmentgroup": "True",
         "bingroup": "x",
         "hovertemplate": "joga=0<br>idade=%{x}<br>count=%{y}<extra></extra>",
         "legendgroup": "0",
         "marker": {
          "color": "#EF553B",
          "pattern": {
           "shape": ""
          }
         },
         "name": "0",
         "offsetgroup": "0",
         "orientation": "v",
         "showlegend": true,
         "type": "histogram",
         "x": [
          55,
          21,
          19,
          16,
          19,
          20,
          50,
          17,
          15,
          20,
          49,
          49,
          82,
          52,
          21,
          39,
          54,
          19,
          21,
          20,
          49,
          19,
          19,
          51,
          51,
          51,
          38,
          53,
          19,
          59,
          40,
          48,
          49,
          60,
          51,
          42,
          41,
          48,
          55,
          59,
          53,
          52,
          20,
          19,
          23,
          19,
          19,
          50,
          20
         ],
         "xaxis": "x",
         "yaxis": "y"
        }
       ],
       "layout": {
        "barmode": "relative",
        "legend": {
         "title": {
          "text": "joga"
         },
         "tracegroupgap": 0
        },
        "margin": {
         "t": 60
        },
        "template": {
         "data": {
          "bar": [
           {
            "error_x": {
             "color": "#2a3f5f"
            },
            "error_y": {
             "color": "#2a3f5f"
            },
            "marker": {
             "line": {
              "color": "#E5ECF6",
              "width": 0.5
             },
             "pattern": {
              "fillmode": "overlay",
              "size": 10,
              "solidity": 0.2
             }
            },
            "type": "bar"
           }
          ],
          "barpolar": [
           {
            "marker": {
             "line": {
              "color": "#E5ECF6",
              "width": 0.5
             },
             "pattern": {
              "fillmode": "overlay",
              "size": 10,
              "solidity": 0.2
             }
            },
            "type": "barpolar"
           }
          ],
          "carpet": [
           {
            "aaxis": {
             "endlinecolor": "#2a3f5f",
             "gridcolor": "white",
             "linecolor": "white",
             "minorgridcolor": "white",
             "startlinecolor": "#2a3f5f"
            },
            "baxis": {
             "endlinecolor": "#2a3f5f",
             "gridcolor": "white",
             "linecolor": "white",
             "minorgridcolor": "white",
             "startlinecolor": "#2a3f5f"
            },
            "type": "carpet"
           }
          ],
          "choropleth": [
           {
            "colorbar": {
             "outlinewidth": 0,
             "ticks": ""
            },
            "type": "choropleth"
           }
          ],
          "contour": [
           {
            "colorbar": {
             "outlinewidth": 0,
             "ticks": ""
            },
            "colorscale": [
             [
              0,
              "#0d0887"
             ],
             [
              0.1111111111111111,
              "#46039f"
             ],
             [
              0.2222222222222222,
              "#7201a8"
             ],
             [
              0.3333333333333333,
              "#9c179e"
             ],
             [
              0.4444444444444444,
              "#bd3786"
             ],
             [
              0.5555555555555556,
              "#d8576b"
             ],
             [
              0.6666666666666666,
              "#ed7953"
             ],
             [
              0.7777777777777778,
              "#fb9f3a"
             ],
             [
              0.8888888888888888,
              "#fdca26"
             ],
             [
              1,
              "#f0f921"
             ]
            ],
            "type": "contour"
           }
          ],
          "contourcarpet": [
           {
            "colorbar": {
             "outlinewidth": 0,
             "ticks": ""
            },
            "type": "contourcarpet"
           }
          ],
          "heatmap": [
           {
            "colorbar": {
             "outlinewidth": 0,
             "ticks": ""
            },
            "colorscale": [
             [
              0,
              "#0d0887"
             ],
             [
              0.1111111111111111,
              "#46039f"
             ],
             [
              0.2222222222222222,
              "#7201a8"
             ],
             [
              0.3333333333333333,
              "#9c179e"
             ],
             [
              0.4444444444444444,
              "#bd3786"
             ],
             [
              0.5555555555555556,
              "#d8576b"
             ],
             [
              0.6666666666666666,
              "#ed7953"
             ],
             [
              0.7777777777777778,
              "#fb9f3a"
             ],
             [
              0.8888888888888888,
              "#fdca26"
             ],
             [
              1,
              "#f0f921"
             ]
            ],
            "type": "heatmap"
           }
          ],
          "heatmapgl": [
           {
            "colorbar": {
             "outlinewidth": 0,
             "ticks": ""
            },
            "colorscale": [
             [
              0,
              "#0d0887"
             ],
             [
              0.1111111111111111,
              "#46039f"
             ],
             [
              0.2222222222222222,
              "#7201a8"
             ],
             [
              0.3333333333333333,
              "#9c179e"
             ],
             [
              0.4444444444444444,
              "#bd3786"
             ],
             [
              0.5555555555555556,
              "#d8576b"
             ],
             [
              0.6666666666666666,
              "#ed7953"
             ],
             [
              0.7777777777777778,
              "#fb9f3a"
             ],
             [
              0.8888888888888888,
              "#fdca26"
             ],
             [
              1,
              "#f0f921"
             ]
            ],
            "type": "heatmapgl"
           }
          ],
          "histogram": [
           {
            "marker": {
             "pattern": {
              "fillmode": "overlay",
              "size": 10,
              "solidity": 0.2
             }
            },
            "type": "histogram"
           }
          ],
          "histogram2d": [
           {
            "colorbar": {
             "outlinewidth": 0,
             "ticks": ""
            },
            "colorscale": [
             [
              0,
              "#0d0887"
             ],
             [
              0.1111111111111111,
              "#46039f"
             ],
             [
              0.2222222222222222,
              "#7201a8"
             ],
             [
              0.3333333333333333,
              "#9c179e"
             ],
             [
              0.4444444444444444,
              "#bd3786"
             ],
             [
              0.5555555555555556,
              "#d8576b"
             ],
             [
              0.6666666666666666,
              "#ed7953"
             ],
             [
              0.7777777777777778,
              "#fb9f3a"
             ],
             [
              0.8888888888888888,
              "#fdca26"
             ],
             [
              1,
              "#f0f921"
             ]
            ],
            "type": "histogram2d"
           }
          ],
          "histogram2dcontour": [
           {
            "colorbar": {
             "outlinewidth": 0,
             "ticks": ""
            },
            "colorscale": [
             [
              0,
              "#0d0887"
             ],
             [
              0.1111111111111111,
              "#46039f"
             ],
             [
              0.2222222222222222,
              "#7201a8"
             ],
             [
              0.3333333333333333,
              "#9c179e"
             ],
             [
              0.4444444444444444,
              "#bd3786"
             ],
             [
              0.5555555555555556,
              "#d8576b"
             ],
             [
              0.6666666666666666,
              "#ed7953"
             ],
             [
              0.7777777777777778,
              "#fb9f3a"
             ],
             [
              0.8888888888888888,
              "#fdca26"
             ],
             [
              1,
              "#f0f921"
             ]
            ],
            "type": "histogram2dcontour"
           }
          ],
          "mesh3d": [
           {
            "colorbar": {
             "outlinewidth": 0,
             "ticks": ""
            },
            "type": "mesh3d"
           }
          ],
          "parcoords": [
           {
            "line": {
             "colorbar": {
              "outlinewidth": 0,
              "ticks": ""
             }
            },
            "type": "parcoords"
           }
          ],
          "pie": [
           {
            "automargin": true,
            "type": "pie"
           }
          ],
          "scatter": [
           {
            "fillpattern": {
             "fillmode": "overlay",
             "size": 10,
             "solidity": 0.2
            },
            "type": "scatter"
           }
          ],
          "scatter3d": [
           {
            "line": {
             "colorbar": {
              "outlinewidth": 0,
              "ticks": ""
             }
            },
            "marker": {
             "colorbar": {
              "outlinewidth": 0,
              "ticks": ""
             }
            },
            "type": "scatter3d"
           }
          ],
          "scattercarpet": [
           {
            "marker": {
             "colorbar": {
              "outlinewidth": 0,
              "ticks": ""
             }
            },
            "type": "scattercarpet"
           }
          ],
          "scattergeo": [
           {
            "marker": {
             "colorbar": {
              "outlinewidth": 0,
              "ticks": ""
             }
            },
            "type": "scattergeo"
           }
          ],
          "scattergl": [
           {
            "marker": {
             "colorbar": {
              "outlinewidth": 0,
              "ticks": ""
             }
            },
            "type": "scattergl"
           }
          ],
          "scattermapbox": [
           {
            "marker": {
             "colorbar": {
              "outlinewidth": 0,
              "ticks": ""
             }
            },
            "type": "scattermapbox"
           }
          ],
          "scatterpolar": [
           {
            "marker": {
             "colorbar": {
              "outlinewidth": 0,
              "ticks": ""
             }
            },
            "type": "scatterpolar"
           }
          ],
          "scatterpolargl": [
           {
            "marker": {
             "colorbar": {
              "outlinewidth": 0,
              "ticks": ""
             }
            },
            "type": "scatterpolargl"
           }
          ],
          "scatterternary": [
           {
            "marker": {
             "colorbar": {
              "outlinewidth": 0,
              "ticks": ""
             }
            },
            "type": "scatterternary"
           }
          ],
          "surface": [
           {
            "colorbar": {
             "outlinewidth": 0,
             "ticks": ""
            },
            "colorscale": [
             [
              0,
              "#0d0887"
             ],
             [
              0.1111111111111111,
              "#46039f"
             ],
             [
              0.2222222222222222,
              "#7201a8"
             ],
             [
              0.3333333333333333,
              "#9c179e"
             ],
             [
              0.4444444444444444,
              "#bd3786"
             ],
             [
              0.5555555555555556,
              "#d8576b"
             ],
             [
              0.6666666666666666,
              "#ed7953"
             ],
             [
              0.7777777777777778,
              "#fb9f3a"
             ],
             [
              0.8888888888888888,
              "#fdca26"
             ],
             [
              1,
              "#f0f921"
             ]
            ],
            "type": "surface"
           }
          ],
          "table": [
           {
            "cells": {
             "fill": {
              "color": "#EBF0F8"
             },
             "line": {
              "color": "white"
             }
            },
            "header": {
             "fill": {
              "color": "#C8D4E3"
             },
             "line": {
              "color": "white"
             }
            },
            "type": "table"
           }
          ]
         },
         "layout": {
          "annotationdefaults": {
           "arrowcolor": "#2a3f5f",
           "arrowhead": 0,
           "arrowwidth": 1
          },
          "autotypenumbers": "strict",
          "coloraxis": {
           "colorbar": {
            "outlinewidth": 0,
            "ticks": ""
           }
          },
          "colorscale": {
           "diverging": [
            [
             0,
             "#8e0152"
            ],
            [
             0.1,
             "#c51b7d"
            ],
            [
             0.2,
             "#de77ae"
            ],
            [
             0.3,
             "#f1b6da"
            ],
            [
             0.4,
             "#fde0ef"
            ],
            [
             0.5,
             "#f7f7f7"
            ],
            [
             0.6,
             "#e6f5d0"
            ],
            [
             0.7,
             "#b8e186"
            ],
            [
             0.8,
             "#7fbc41"
            ],
            [
             0.9,
             "#4d9221"
            ],
            [
             1,
             "#276419"
            ]
           ],
           "sequential": [
            [
             0,
             "#0d0887"
            ],
            [
             0.1111111111111111,
             "#46039f"
            ],
            [
             0.2222222222222222,
             "#7201a8"
            ],
            [
             0.3333333333333333,
             "#9c179e"
            ],
            [
             0.4444444444444444,
             "#bd3786"
            ],
            [
             0.5555555555555556,
             "#d8576b"
            ],
            [
             0.6666666666666666,
             "#ed7953"
            ],
            [
             0.7777777777777778,
             "#fb9f3a"
            ],
            [
             0.8888888888888888,
             "#fdca26"
            ],
            [
             1,
             "#f0f921"
            ]
           ],
           "sequentialminus": [
            [
             0,
             "#0d0887"
            ],
            [
             0.1111111111111111,
             "#46039f"
            ],
            [
             0.2222222222222222,
             "#7201a8"
            ],
            [
             0.3333333333333333,
             "#9c179e"
            ],
            [
             0.4444444444444444,
             "#bd3786"
            ],
            [
             0.5555555555555556,
             "#d8576b"
            ],
            [
             0.6666666666666666,
             "#ed7953"
            ],
            [
             0.7777777777777778,
             "#fb9f3a"
            ],
            [
             0.8888888888888888,
             "#fdca26"
            ],
            [
             1,
             "#f0f921"
            ]
           ]
          },
          "colorway": [
           "#636efa",
           "#EF553B",
           "#00cc96",
           "#ab63fa",
           "#FFA15A",
           "#19d3f3",
           "#FF6692",
           "#B6E880",
           "#FF97FF",
           "#FECB52"
          ],
          "font": {
           "color": "#2a3f5f"
          },
          "geo": {
           "bgcolor": "white",
           "lakecolor": "white",
           "landcolor": "#E5ECF6",
           "showlakes": true,
           "showland": true,
           "subunitcolor": "white"
          },
          "hoverlabel": {
           "align": "left"
          },
          "hovermode": "closest",
          "mapbox": {
           "style": "light"
          },
          "paper_bgcolor": "white",
          "plot_bgcolor": "#E5ECF6",
          "polar": {
           "angularaxis": {
            "gridcolor": "white",
            "linecolor": "white",
            "ticks": ""
           },
           "bgcolor": "#E5ECF6",
           "radialaxis": {
            "gridcolor": "white",
            "linecolor": "white",
            "ticks": ""
           }
          },
          "scene": {
           "xaxis": {
            "backgroundcolor": "#E5ECF6",
            "gridcolor": "white",
            "gridwidth": 2,
            "linecolor": "white",
            "showbackground": true,
            "ticks": "",
            "zerolinecolor": "white"
           },
           "yaxis": {
            "backgroundcolor": "#E5ECF6",
            "gridcolor": "white",
            "gridwidth": 2,
            "linecolor": "white",
            "showbackground": true,
            "ticks": "",
            "zerolinecolor": "white"
           },
           "zaxis": {
            "backgroundcolor": "#E5ECF6",
            "gridcolor": "white",
            "gridwidth": 2,
            "linecolor": "white",
            "showbackground": true,
            "ticks": "",
            "zerolinecolor": "white"
           }
          },
          "shapedefaults": {
           "line": {
            "color": "#2a3f5f"
           }
          },
          "ternary": {
           "aaxis": {
            "gridcolor": "white",
            "linecolor": "white",
            "ticks": ""
           },
           "baxis": {
            "gridcolor": "white",
            "linecolor": "white",
            "ticks": ""
           },
           "bgcolor": "#E5ECF6",
           "caxis": {
            "gridcolor": "white",
            "linecolor": "white",
            "ticks": ""
           }
          },
          "title": {
           "x": 0.05
          },
          "xaxis": {
           "automargin": true,
           "gridcolor": "white",
           "linecolor": "white",
           "ticks": "",
           "title": {
            "standoff": 15
           },
           "zerolinecolor": "white",
           "zerolinewidth": 2
          },
          "yaxis": {
           "automargin": true,
           "gridcolor": "white",
           "linecolor": "white",
           "ticks": "",
           "title": {
            "standoff": 15
           },
           "zerolinecolor": "white",
           "zerolinewidth": 2
          }
         }
        },
        "xaxis": {
         "anchor": "y",
         "domain": [
          0,
          1
         ],
         "title": {
          "text": "idade"
         }
        },
        "yaxis": {
         "anchor": "x",
         "domain": [
          0,
          1
         ],
         "title": {
          "text": "count"
         }
        }
       }
      }
     },
     "metadata": {},
     "output_type": "display_data"
    }
   ],
   "source": [
    "joga.show()"
   ]
  },
  {
   "cell_type": "code",
   "execution_count": 167,
   "metadata": {},
   "outputs": [
    {
     "data": {
      "text/plain": [
       "Estudante                 96\n",
       "Trabalhador               44\n",
       "Estudante;Trabalhador     13\n",
       "Desempregado               6\n",
       "Estudante;Desempregado     5\n",
       "Aposentado                 2\n",
       "Aposentado;Trabalhador     1\n",
       "Name: ocupacao, dtype: int64"
      ]
     },
     "execution_count": 167,
     "metadata": {},
     "output_type": "execute_result"
    }
   ],
   "source": [
    "data['ocupacao'].value_counts()"
   ]
  },
  {
   "cell_type": "code",
   "execution_count": 168,
   "metadata": {},
   "outputs": [],
   "source": [
    "# comparando Estudante;Desempregado com Estudante;Trabalhador\n",
    "\n",
    "array = [\"Estudante;Desempregado\",\"Estudante;Trabalhador\"]\n",
    "\n",
    "Estudantes=data.loc[data['ocupacao'].isin(array)]\n",
    "\n",
    "arrayEmprego = [\"Estudante\",\"Trabalhador\"]\n",
    "\n",
    "Emprego=data.loc[data['ocupacao'].isin(arrayEmprego)]\n",
    "\n",
    "arrayAposentado = [\"Aposentado;Trabalhador\",\"Aposentado\"]\n",
    "\n",
    "Aposentado=data.loc[data['ocupacao'].isin(arrayAposentado)]\n"
   ]
  },
  {
   "cell_type": "code",
   "execution_count": 169,
   "metadata": {},
   "outputs": [
    {
     "data": {
      "text/html": [
       "<div>\n",
       "<style scoped>\n",
       "    .dataframe tbody tr th:only-of-type {\n",
       "        vertical-align: middle;\n",
       "    }\n",
       "\n",
       "    .dataframe tbody tr th {\n",
       "        vertical-align: top;\n",
       "    }\n",
       "\n",
       "    .dataframe thead th {\n",
       "        text-align: right;\n",
       "    }\n",
       "</style>\n",
       "<table border=\"1\" class=\"dataframe\">\n",
       "  <thead>\n",
       "    <tr style=\"text-align: right;\">\n",
       "      <th></th>\n",
       "      <th>idade</th>\n",
       "      <th>genero</th>\n",
       "      <th>ocupacao</th>\n",
       "      <th>estado</th>\n",
       "      <th>ingles</th>\n",
       "      <th>filhos</th>\n",
       "      <th>joga</th>\n",
       "      <th>quant_jogos</th>\n",
       "      <th>fav_jogos</th>\n",
       "      <th>midia</th>\n",
       "      <th>importante_jogo</th>\n",
       "      <th>assina</th>\n",
       "      <th>quais</th>\n",
       "      <th>paga</th>\n",
       "      <th>count</th>\n",
       "    </tr>\n",
       "  </thead>\n",
       "  <tbody>\n",
       "    <tr>\n",
       "      <th>0</th>\n",
       "      <td>20</td>\n",
       "      <td>Feminino</td>\n",
       "      <td>Estudante</td>\n",
       "      <td>Solteira(o)</td>\n",
       "      <td>Fluente</td>\n",
       "      <td>0</td>\n",
       "      <td>1</td>\n",
       "      <td>0.0</td>\n",
       "      <td>Ação/Aventura</td>\n",
       "      <td>Mídia digital</td>\n",
       "      <td>Indiferente</td>\n",
       "      <td>0.0</td>\n",
       "      <td>NaN</td>\n",
       "      <td>Não pagaria</td>\n",
       "      <td>1.0</td>\n",
       "    </tr>\n",
       "    <tr>\n",
       "      <th>1</th>\n",
       "      <td>20</td>\n",
       "      <td>Masculino</td>\n",
       "      <td>Estudante</td>\n",
       "      <td>Solteira(o)</td>\n",
       "      <td>Fluente</td>\n",
       "      <td>0</td>\n",
       "      <td>1</td>\n",
       "      <td>1.0</td>\n",
       "      <td>Ação/Aventura;Estratégia;RPG;Simulação</td>\n",
       "      <td>Mídia física</td>\n",
       "      <td>Desconto;Duração;Preço;Qualidade</td>\n",
       "      <td>0.0</td>\n",
       "      <td>NaN</td>\n",
       "      <td>10 a 30</td>\n",
       "      <td>1.0</td>\n",
       "    </tr>\n",
       "    <tr>\n",
       "      <th>2</th>\n",
       "      <td>20</td>\n",
       "      <td>Feminino</td>\n",
       "      <td>Estudante</td>\n",
       "      <td>Solteira(o)</td>\n",
       "      <td>Intermediário</td>\n",
       "      <td>0</td>\n",
       "      <td>1</td>\n",
       "      <td>1.0</td>\n",
       "      <td>Ação/Aventura;FPS;Simulação</td>\n",
       "      <td>Indiferente</td>\n",
       "      <td>Duração;Preço;Qualidade</td>\n",
       "      <td>0.0</td>\n",
       "      <td>NaN</td>\n",
       "      <td>10 a 30</td>\n",
       "      <td>1.0</td>\n",
       "    </tr>\n",
       "  </tbody>\n",
       "</table>\n",
       "</div>"
      ],
      "text/plain": [
       "   idade     genero   ocupacao       estado         ingles  filhos  joga  \\\n",
       "0     20   Feminino  Estudante  Solteira(o)        Fluente       0     1   \n",
       "1     20  Masculino  Estudante  Solteira(o)        Fluente       0     1   \n",
       "2     20   Feminino  Estudante  Solteira(o)  Intermediário       0     1   \n",
       "\n",
       "   quant_jogos                               fav_jogos          midia  \\\n",
       "0          0.0                           Ação/Aventura  Mídia digital   \n",
       "1          1.0  Ação/Aventura;Estratégia;RPG;Simulação   Mídia física   \n",
       "2          1.0             Ação/Aventura;FPS;Simulação    Indiferente   \n",
       "\n",
       "                    importante_jogo  assina quais         paga  count  \n",
       "0                       Indiferente     0.0   NaN  Não pagaria    1.0  \n",
       "1  Desconto;Duração;Preço;Qualidade     0.0   NaN      10 a 30    1.0  \n",
       "2           Duração;Preço;Qualidade     0.0   NaN      10 a 30    1.0  "
      ]
     },
     "execution_count": 169,
     "metadata": {},
     "output_type": "execute_result"
    }
   ],
   "source": [
    "data.head(3)"
   ]
  },
  {
   "cell_type": "code",
   "execution_count": 170,
   "metadata": {},
   "outputs": [
    {
     "name": "stdout",
     "output_type": "stream",
     "text": [
      "Masculino               0.634731\n",
      "Feminino                0.335329\n",
      "Outros                  0.023952\n",
      "Prefiro não informar    0.005988\n",
      "Name: genero, dtype: float64\n",
      "Estudante                 0.574850\n",
      "Trabalhador               0.263473\n",
      "Estudante;Trabalhador     0.077844\n",
      "Desempregado              0.035928\n",
      "Estudante;Desempregado    0.029940\n",
      "Aposentado                0.011976\n",
      "Aposentado;Trabalhador    0.005988\n",
      "Name: ocupacao, dtype: float64\n",
      "Solteira(o)    0.718563\n",
      "Casada(o)      0.239521\n",
      "Separada(o)    0.023952\n",
      "Married        0.011976\n",
      "Viúva(o)       0.005988\n",
      "Name: estado, dtype: float64\n",
      "Intermediário          0.275449\n",
      "Avançado               0.263473\n",
      "Fluente                0.251497\n",
      "Básico                 0.119760\n",
      "Tenho ingles nativo    0.053892\n",
      "Nenhum                 0.035928\n",
      "Name: ingles, dtype: float64\n",
      "0    0.808383\n",
      "1    0.191617\n",
      "Name: filhos, dtype: float64\n",
      "1    0.706587\n",
      "0    0.293413\n",
      "Name: joga, dtype: float64\n",
      "0.0     0.364407\n",
      "1.0     0.203390\n",
      "3.0     0.152542\n",
      "2.0     0.110169\n",
      "4.0     0.067797\n",
      "5.0     0.042373\n",
      "6.0     0.016949\n",
      "12.0    0.008475\n",
      "9.0     0.008475\n",
      "19.0    0.008475\n",
      "11.0    0.008475\n",
      "16.0    0.008475\n",
      "Name: quant_jogos, dtype: float64\n",
      "0.0    0.5\n",
      "1.0    0.5\n",
      "Name: assina, dtype: float64\n"
     ]
    }
   ],
   "source": [
    "for c in categorias1:\n",
    "\n",
    "    print(data[c].value_counts(1)) #ver dados bem distribuidos \n",
    "    "
   ]
  },
  {
   "cell_type": "code",
   "execution_count": 171,
   "metadata": {},
   "outputs": [
    {
     "data": {
      "text/plain": [
       "['idade',\n",
       " 'genero',\n",
       " 'ocupacao',\n",
       " 'estado',\n",
       " 'ingles',\n",
       " 'filhos',\n",
       " 'joga',\n",
       " 'quant_jogos',\n",
       " 'fav_jogos',\n",
       " 'midia',\n",
       " 'importante_jogo',\n",
       " 'assina',\n",
       " 'quais',\n",
       " 'paga',\n",
       " 'count']"
      ]
     },
     "execution_count": 171,
     "metadata": {},
     "output_type": "execute_result"
    }
   ],
   "source": [
    "categorias_todas"
   ]
  },
  {
   "cell_type": "code",
   "execution_count": 235,
   "metadata": {},
   "outputs": [
    {
     "data": {
      "text/html": [
       "<div>\n",
       "<style scoped>\n",
       "    .dataframe tbody tr th:only-of-type {\n",
       "        vertical-align: middle;\n",
       "    }\n",
       "\n",
       "    .dataframe tbody tr th {\n",
       "        vertical-align: top;\n",
       "    }\n",
       "\n",
       "    .dataframe thead th {\n",
       "        text-align: right;\n",
       "    }\n",
       "</style>\n",
       "<table border=\"1\" class=\"dataframe\">\n",
       "  <thead>\n",
       "    <tr style=\"text-align: right;\">\n",
       "      <th>joga</th>\n",
       "      <th>0</th>\n",
       "      <th>1</th>\n",
       "      <th>total</th>\n",
       "      <th>0 em %</th>\n",
       "      <th>1 em %</th>\n",
       "    </tr>\n",
       "    <tr>\n",
       "      <th>ingles</th>\n",
       "      <th></th>\n",
       "      <th></th>\n",
       "      <th></th>\n",
       "      <th></th>\n",
       "      <th></th>\n",
       "    </tr>\n",
       "  </thead>\n",
       "  <tbody>\n",
       "    <tr>\n",
       "      <th>Avançado</th>\n",
       "      <td>15.0</td>\n",
       "      <td>29.0</td>\n",
       "      <td>44</td>\n",
       "      <td>34.090909</td>\n",
       "      <td>65.909091</td>\n",
       "    </tr>\n",
       "    <tr>\n",
       "      <th>Básico</th>\n",
       "      <td>11.0</td>\n",
       "      <td>9.0</td>\n",
       "      <td>20</td>\n",
       "      <td>55.000000</td>\n",
       "      <td>45.000000</td>\n",
       "    </tr>\n",
       "    <tr>\n",
       "      <th>Fluente</th>\n",
       "      <td>7.0</td>\n",
       "      <td>35.0</td>\n",
       "      <td>42</td>\n",
       "      <td>16.666667</td>\n",
       "      <td>83.333333</td>\n",
       "    </tr>\n",
       "    <tr>\n",
       "      <th>Intermediário</th>\n",
       "      <td>14.0</td>\n",
       "      <td>32.0</td>\n",
       "      <td>46</td>\n",
       "      <td>30.434783</td>\n",
       "      <td>69.565217</td>\n",
       "    </tr>\n",
       "    <tr>\n",
       "      <th>Nenhum</th>\n",
       "      <td>2.0</td>\n",
       "      <td>4.0</td>\n",
       "      <td>6</td>\n",
       "      <td>33.333333</td>\n",
       "      <td>66.666667</td>\n",
       "    </tr>\n",
       "    <tr>\n",
       "      <th>Tenho ingles nativo</th>\n",
       "      <td>0.0</td>\n",
       "      <td>9.0</td>\n",
       "      <td>9</td>\n",
       "      <td>0.000000</td>\n",
       "      <td>100.000000</td>\n",
       "    </tr>\n",
       "  </tbody>\n",
       "</table>\n",
       "</div>"
      ],
      "text/plain": [
       "joga                    0     1  total     0 em %      1 em %\n",
       "ingles                                                       \n",
       "Avançado             15.0  29.0     44  34.090909   65.909091\n",
       "Básico               11.0   9.0     20  55.000000   45.000000\n",
       "Fluente               7.0  35.0     42  16.666667   83.333333\n",
       "Intermediário        14.0  32.0     46  30.434783   69.565217\n",
       "Nenhum                2.0   4.0      6  33.333333   66.666667\n",
       "Tenho ingles nativo   0.0   9.0      9   0.000000  100.000000"
      ]
     },
     "execution_count": 235,
     "metadata": {},
     "output_type": "execute_result"
    }
   ],
   "source": [
    "tempdf=data.groupby(['ingles','joga']).joga.count().unstack().fillna(0)\n",
    "tempdf['total']=data['ingles'].value_counts()\n",
    "tempdf['0 em %']=tempdf[0]/tempdf['total']*100\n",
    "tempdf['1 em %']=tempdf[1]/tempdf['total']*100\n",
    "tempdf\n",
    "# quanto maior o seu conhecimento mais provavel de vc jogar"
   ]
  },
  {
   "cell_type": "code",
   "execution_count": 270,
   "metadata": {},
   "outputs": [
    {
     "name": "stdout",
     "output_type": "stream",
     "text": [
      "['Ação/Aventura', 'Estratégia', 'RPG', 'Simulação']\n"
     ]
    }
   ],
   "source": [
    "tempdf=data['fav_jogos']\n",
    "test=str(tempdf[1]).split(\";\")\n",
    "comparar=[]\n",
    "\n",
    "for c in test:\n",
    "    if(not(c in comparar)):\n",
    "        comparar.append(c)\n",
    "print(comparar)"
   ]
  },
  {
   "cell_type": "code",
   "execution_count": 173,
   "metadata": {},
   "outputs": [
    {
     "data": {
      "text/plain": [
       "[Text(0.5, 1.0, 'assinatura')]"
      ]
     },
     "execution_count": 173,
     "metadata": {},
     "output_type": "execute_result"
    },
    {
     "data": {
      "image/png": "[encoded data removed]",
      "text/plain": [
       "<Figure size 432x288 with 1 Axes>"
      ]
     },
     "metadata": {
      "needs_background": "light"
     },
     "output_type": "display_data"
    }
   ],
   "source": [
    "sns.countplot(x='paga', data=data, hue='assina').set(title='assinatura')"
   ]
  },
  {
   "cell_type": "code",
   "execution_count": 174,
   "metadata": {},
   "outputs": [
    {
     "data": {
      "text/plain": [
       "[Text(0.5, 1.0, 'ingles_nivel')]"
      ]
     },
     "execution_count": 174,
     "metadata": {},
     "output_type": "execute_result"
    },
    {
     "data": {
      "image/png": "[encoded data removed]",
      "text/plain": [
       "<Figure size 432x288 with 1 Axes>"
      ]
     },
     "metadata": {
      "needs_background": "light"
     },
     "output_type": "display_data"
    }
   ],
   "source": [
    "\n",
    "sns.countplot(x='joga', data=data, hue='ingles').set(title='ingles_nivel')\n"
   ]
  },
  {
   "cell_type": "code",
   "execution_count": 176,
   "metadata": {},
   "outputs": [
    {
     "data": {
      "text/html": [
       "<div>\n",
       "<style scoped>\n",
       "    .dataframe tbody tr th:only-of-type {\n",
       "        vertical-align: middle;\n",
       "    }\n",
       "\n",
       "    .dataframe tbody tr th {\n",
       "        vertical-align: top;\n",
       "    }\n",
       "\n",
       "    .dataframe thead th {\n",
       "        text-align: right;\n",
       "    }\n",
       "</style>\n",
       "<table border=\"1\" class=\"dataframe\">\n",
       "  <thead>\n",
       "    <tr style=\"text-align: right;\">\n",
       "      <th></th>\n",
       "      <th>idade</th>\n",
       "      <th>genero</th>\n",
       "      <th>ocupacao</th>\n",
       "      <th>estado</th>\n",
       "      <th>ingles</th>\n",
       "      <th>filhos</th>\n",
       "      <th>joga</th>\n",
       "      <th>quant_jogos</th>\n",
       "      <th>fav_jogos</th>\n",
       "      <th>midia</th>\n",
       "      <th>importante_jogo</th>\n",
       "      <th>assina</th>\n",
       "      <th>quais</th>\n",
       "      <th>paga</th>\n",
       "      <th>count</th>\n",
       "    </tr>\n",
       "  </thead>\n",
       "  <tbody>\n",
       "    <tr>\n",
       "      <th>0</th>\n",
       "      <td>20</td>\n",
       "      <td>Feminino</td>\n",
       "      <td>Estudante</td>\n",
       "      <td>Solteira(o)</td>\n",
       "      <td>Fluente</td>\n",
       "      <td>0</td>\n",
       "      <td>1</td>\n",
       "      <td>0.0</td>\n",
       "      <td>Ação/Aventura</td>\n",
       "      <td>Mídia digital</td>\n",
       "      <td>Indiferente</td>\n",
       "      <td>0.0</td>\n",
       "      <td>NaN</td>\n",
       "      <td>Não pagaria</td>\n",
       "      <td>1.0</td>\n",
       "    </tr>\n",
       "    <tr>\n",
       "      <th>1</th>\n",
       "      <td>20</td>\n",
       "      <td>Masculino</td>\n",
       "      <td>Estudante</td>\n",
       "      <td>Solteira(o)</td>\n",
       "      <td>Fluente</td>\n",
       "      <td>0</td>\n",
       "      <td>1</td>\n",
       "      <td>1.0</td>\n",
       "      <td>Ação/Aventura;Estratégia;RPG;Simulação</td>\n",
       "      <td>Mídia física</td>\n",
       "      <td>Desconto;Duração;Preço;Qualidade</td>\n",
       "      <td>0.0</td>\n",
       "      <td>NaN</td>\n",
       "      <td>10 a 30</td>\n",
       "      <td>1.0</td>\n",
       "    </tr>\n",
       "    <tr>\n",
       "      <th>2</th>\n",
       "      <td>20</td>\n",
       "      <td>Feminino</td>\n",
       "      <td>Estudante</td>\n",
       "      <td>Solteira(o)</td>\n",
       "      <td>Intermediário</td>\n",
       "      <td>0</td>\n",
       "      <td>1</td>\n",
       "      <td>1.0</td>\n",
       "      <td>Ação/Aventura;FPS;Simulação</td>\n",
       "      <td>Indiferente</td>\n",
       "      <td>Duração;Preço;Qualidade</td>\n",
       "      <td>0.0</td>\n",
       "      <td>NaN</td>\n",
       "      <td>10 a 30</td>\n",
       "      <td>1.0</td>\n",
       "    </tr>\n",
       "    <tr>\n",
       "      <th>3</th>\n",
       "      <td>20</td>\n",
       "      <td>Masculino</td>\n",
       "      <td>Estudante</td>\n",
       "      <td>Solteira(o)</td>\n",
       "      <td>Fluente</td>\n",
       "      <td>0</td>\n",
       "      <td>1</td>\n",
       "      <td>3.0</td>\n",
       "      <td>Ação/Aventura;Battle Royale;Corrida;Luta;RPG;S...</td>\n",
       "      <td>Indiferente</td>\n",
       "      <td>Desconto;Preço;Qualidade</td>\n",
       "      <td>1.0</td>\n",
       "      <td>Game Pass;Prime gaming, epic games (não é pago...</td>\n",
       "      <td>10 a 30</td>\n",
       "      <td>1.0</td>\n",
       "    </tr>\n",
       "    <tr>\n",
       "      <th>4</th>\n",
       "      <td>15</td>\n",
       "      <td>Masculino</td>\n",
       "      <td>Estudante</td>\n",
       "      <td>Casada(o)</td>\n",
       "      <td>Avançado</td>\n",
       "      <td>1</td>\n",
       "      <td>1</td>\n",
       "      <td>0.0</td>\n",
       "      <td>Estratégia;RPG</td>\n",
       "      <td>Indiferente</td>\n",
       "      <td>Desconto;Preço;Qualidade</td>\n",
       "      <td>1.0</td>\n",
       "      <td>Game Pass</td>\n",
       "      <td>30 a 50</td>\n",
       "      <td>1.0</td>\n",
       "    </tr>\n",
       "    <tr>\n",
       "      <th>5</th>\n",
       "      <td>55</td>\n",
       "      <td>Feminino</td>\n",
       "      <td>Desempregado</td>\n",
       "      <td>Casada(o)</td>\n",
       "      <td>Intermediário</td>\n",
       "      <td>1</td>\n",
       "      <td>0</td>\n",
       "      <td>NaN</td>\n",
       "      <td>NaN</td>\n",
       "      <td>NaN</td>\n",
       "      <td>NaN</td>\n",
       "      <td>NaN</td>\n",
       "      <td>NaN</td>\n",
       "      <td>NaN</td>\n",
       "      <td>1.0</td>\n",
       "    </tr>\n",
       "    <tr>\n",
       "      <th>6</th>\n",
       "      <td>21</td>\n",
       "      <td>Masculino</td>\n",
       "      <td>Estudante</td>\n",
       "      <td>Solteira(o)</td>\n",
       "      <td>Básico</td>\n",
       "      <td>0</td>\n",
       "      <td>0</td>\n",
       "      <td>NaN</td>\n",
       "      <td>NaN</td>\n",
       "      <td>NaN</td>\n",
       "      <td>NaN</td>\n",
       "      <td>NaN</td>\n",
       "      <td>NaN</td>\n",
       "      <td>NaN</td>\n",
       "      <td>1.0</td>\n",
       "    </tr>\n",
       "    <tr>\n",
       "      <th>7</th>\n",
       "      <td>19</td>\n",
       "      <td>Masculino</td>\n",
       "      <td>Estudante</td>\n",
       "      <td>Solteira(o)</td>\n",
       "      <td>Intermediário</td>\n",
       "      <td>0</td>\n",
       "      <td>0</td>\n",
       "      <td>NaN</td>\n",
       "      <td>NaN</td>\n",
       "      <td>NaN</td>\n",
       "      <td>NaN</td>\n",
       "      <td>NaN</td>\n",
       "      <td>NaN</td>\n",
       "      <td>NaN</td>\n",
       "      <td>1.0</td>\n",
       "    </tr>\n",
       "    <tr>\n",
       "      <th>8</th>\n",
       "      <td>20</td>\n",
       "      <td>Masculino</td>\n",
       "      <td>Estudante</td>\n",
       "      <td>Solteira(o)</td>\n",
       "      <td>Intermediário</td>\n",
       "      <td>0</td>\n",
       "      <td>1</td>\n",
       "      <td>3.0</td>\n",
       "      <td>Estratégia;RPG;Simulação;Roguelike</td>\n",
       "      <td>Mídia digital</td>\n",
       "      <td>Qualidade</td>\n",
       "      <td>0.0</td>\n",
       "      <td>NaN</td>\n",
       "      <td>10 a 30</td>\n",
       "      <td>1.0</td>\n",
       "    </tr>\n",
       "    <tr>\n",
       "      <th>9</th>\n",
       "      <td>21</td>\n",
       "      <td>Masculino</td>\n",
       "      <td>Estudante</td>\n",
       "      <td>Solteira(o)</td>\n",
       "      <td>Fluente</td>\n",
       "      <td>0</td>\n",
       "      <td>1</td>\n",
       "      <td>0.0</td>\n",
       "      <td>Estratégia;RPG</td>\n",
       "      <td>Mídia digital</td>\n",
       "      <td>Qualidade</td>\n",
       "      <td>0.0</td>\n",
       "      <td>NaN</td>\n",
       "      <td>10 a 30</td>\n",
       "      <td>1.0</td>\n",
       "    </tr>\n",
       "    <tr>\n",
       "      <th>10</th>\n",
       "      <td>20</td>\n",
       "      <td>Masculino</td>\n",
       "      <td>Estudante</td>\n",
       "      <td>Solteira(o)</td>\n",
       "      <td>Avançado</td>\n",
       "      <td>0</td>\n",
       "      <td>1</td>\n",
       "      <td>3.0</td>\n",
       "      <td>FPS;Luta;Simulação</td>\n",
       "      <td>Mídia digital</td>\n",
       "      <td>Desconto;Qualidade</td>\n",
       "      <td>0.0</td>\n",
       "      <td>NaN</td>\n",
       "      <td>10 a 30</td>\n",
       "      <td>1.0</td>\n",
       "    </tr>\n",
       "    <tr>\n",
       "      <th>11</th>\n",
       "      <td>19</td>\n",
       "      <td>Masculino</td>\n",
       "      <td>Estudante</td>\n",
       "      <td>Solteira(o)</td>\n",
       "      <td>Avançado</td>\n",
       "      <td>0</td>\n",
       "      <td>1</td>\n",
       "      <td>1.0</td>\n",
       "      <td>Ação/Aventura;Esporte;RPG</td>\n",
       "      <td>Mídia digital</td>\n",
       "      <td>Qualidade</td>\n",
       "      <td>1.0</td>\n",
       "      <td>Game Pass;Playstation Plus</td>\n",
       "      <td>30 a 50</td>\n",
       "      <td>1.0</td>\n",
       "    </tr>\n",
       "    <tr>\n",
       "      <th>12</th>\n",
       "      <td>21</td>\n",
       "      <td>Masculino</td>\n",
       "      <td>Estudante</td>\n",
       "      <td>Solteira(o)</td>\n",
       "      <td>Fluente</td>\n",
       "      <td>0</td>\n",
       "      <td>1</td>\n",
       "      <td>3.0</td>\n",
       "      <td>Ação/Aventura;Estratégia;FPS;RPG</td>\n",
       "      <td>Mídia digital</td>\n",
       "      <td>Desconto;Duração;Preço;Qualidade</td>\n",
       "      <td>1.0</td>\n",
       "      <td>EA Access/Origin Access;Game Pass</td>\n",
       "      <td>30 a 50</td>\n",
       "      <td>1.0</td>\n",
       "    </tr>\n",
       "    <tr>\n",
       "      <th>13</th>\n",
       "      <td>20</td>\n",
       "      <td>Masculino</td>\n",
       "      <td>Estudante</td>\n",
       "      <td>Solteira(o)</td>\n",
       "      <td>Avançado</td>\n",
       "      <td>0</td>\n",
       "      <td>1</td>\n",
       "      <td>1.0</td>\n",
       "      <td>Ação/Aventura;MOBA</td>\n",
       "      <td>Mídia digital</td>\n",
       "      <td>Desconto;Duração;Preço;Qualidade</td>\n",
       "      <td>0.0</td>\n",
       "      <td>NaN</td>\n",
       "      <td>10 a 30</td>\n",
       "      <td>1.0</td>\n",
       "    </tr>\n",
       "    <tr>\n",
       "      <th>14</th>\n",
       "      <td>19</td>\n",
       "      <td>Masculino</td>\n",
       "      <td>Estudante</td>\n",
       "      <td>Solteira(o)</td>\n",
       "      <td>Fluente</td>\n",
       "      <td>0</td>\n",
       "      <td>1</td>\n",
       "      <td>4.0</td>\n",
       "      <td>FPS</td>\n",
       "      <td>Mídia digital</td>\n",
       "      <td>Desconto;Preço;Qualidade</td>\n",
       "      <td>0.0</td>\n",
       "      <td>NaN</td>\n",
       "      <td>10 a 30</td>\n",
       "      <td>1.0</td>\n",
       "    </tr>\n",
       "    <tr>\n",
       "      <th>15</th>\n",
       "      <td>20</td>\n",
       "      <td>Masculino</td>\n",
       "      <td>Estudante</td>\n",
       "      <td>Solteira(o)</td>\n",
       "      <td>Fluente</td>\n",
       "      <td>0</td>\n",
       "      <td>1</td>\n",
       "      <td>12.0</td>\n",
       "      <td>Ação/Aventura;Estratégia;FPS;RPG;Simulação;Ter...</td>\n",
       "      <td>Mídia digital</td>\n",
       "      <td>Desconto;Duração;Preço;Qualidade</td>\n",
       "      <td>1.0</td>\n",
       "      <td>EA Access/Origin Access;Game Pass;Nintendo Swi...</td>\n",
       "      <td>30 a 50</td>\n",
       "      <td>1.0</td>\n",
       "    </tr>\n",
       "    <tr>\n",
       "      <th>16</th>\n",
       "      <td>20</td>\n",
       "      <td>Masculino</td>\n",
       "      <td>Estudante</td>\n",
       "      <td>Solteira(o)</td>\n",
       "      <td>Fluente</td>\n",
       "      <td>0</td>\n",
       "      <td>1</td>\n",
       "      <td>3.0</td>\n",
       "      <td>Ação/Aventura;Esporte;Estratégia;MOBA;RPG</td>\n",
       "      <td>Indiferente</td>\n",
       "      <td>Duração;Qualidade</td>\n",
       "      <td>0.0</td>\n",
       "      <td>NaN</td>\n",
       "      <td>30 a 50</td>\n",
       "      <td>1.0</td>\n",
       "    </tr>\n",
       "    <tr>\n",
       "      <th>17</th>\n",
       "      <td>20</td>\n",
       "      <td>Outros</td>\n",
       "      <td>Estudante</td>\n",
       "      <td>Solteira(o)</td>\n",
       "      <td>Fluente</td>\n",
       "      <td>0</td>\n",
       "      <td>1</td>\n",
       "      <td>0.0</td>\n",
       "      <td>Corrida;Esporte;FPS;RPG;Simulação</td>\n",
       "      <td>Indiferente</td>\n",
       "      <td>Desconto;Preço;Qualidade</td>\n",
       "      <td>1.0</td>\n",
       "      <td>Playstation Plus</td>\n",
       "      <td>Não pagaria</td>\n",
       "      <td>1.0</td>\n",
       "    </tr>\n",
       "    <tr>\n",
       "      <th>18</th>\n",
       "      <td>15</td>\n",
       "      <td>Masculino</td>\n",
       "      <td>Estudante;Desempregado</td>\n",
       "      <td>Solteira(o)</td>\n",
       "      <td>Fluente</td>\n",
       "      <td>0</td>\n",
       "      <td>1</td>\n",
       "      <td>3.0</td>\n",
       "      <td>Ação/Aventura;Esporte;FPS</td>\n",
       "      <td>Mídia digital</td>\n",
       "      <td>Desconto;Duração;Preço;Qualidade</td>\n",
       "      <td>0.0</td>\n",
       "      <td>NaN</td>\n",
       "      <td>30 a 50</td>\n",
       "      <td>1.0</td>\n",
       "    </tr>\n",
       "    <tr>\n",
       "      <th>19</th>\n",
       "      <td>18</td>\n",
       "      <td>Feminino</td>\n",
       "      <td>Estudante;Desempregado</td>\n",
       "      <td>Solteira(o)</td>\n",
       "      <td>Avançado</td>\n",
       "      <td>0</td>\n",
       "      <td>1</td>\n",
       "      <td>1.0</td>\n",
       "      <td>Simulação</td>\n",
       "      <td>Indiferente</td>\n",
       "      <td>Preço;Qualidade</td>\n",
       "      <td>0.0</td>\n",
       "      <td>NaN</td>\n",
       "      <td>Não pagaria</td>\n",
       "      <td>1.0</td>\n",
       "    </tr>\n",
       "    <tr>\n",
       "      <th>20</th>\n",
       "      <td>16</td>\n",
       "      <td>Masculino</td>\n",
       "      <td>Estudante</td>\n",
       "      <td>Solteira(o)</td>\n",
       "      <td>Intermediário</td>\n",
       "      <td>0</td>\n",
       "      <td>1</td>\n",
       "      <td>0.0</td>\n",
       "      <td>Ação/Aventura;Estratégia;FPS;Sandbox</td>\n",
       "      <td>Indiferente</td>\n",
       "      <td>Desconto;Preço;Qualidade</td>\n",
       "      <td>0.0</td>\n",
       "      <td>NaN</td>\n",
       "      <td>10 a 30</td>\n",
       "      <td>1.0</td>\n",
       "    </tr>\n",
       "    <tr>\n",
       "      <th>21</th>\n",
       "      <td>15</td>\n",
       "      <td>Masculino</td>\n",
       "      <td>Estudante</td>\n",
       "      <td>Solteira(o)</td>\n",
       "      <td>Avançado</td>\n",
       "      <td>0</td>\n",
       "      <td>1</td>\n",
       "      <td>9.0</td>\n",
       "      <td>Ação/Aventura;Esporte;Estratégia;FPS;RPG</td>\n",
       "      <td>Mídia física</td>\n",
       "      <td>Desconto;Duração;Preço;Qualidade</td>\n",
       "      <td>1.0</td>\n",
       "      <td>Playstation Plus</td>\n",
       "      <td>10 a 30</td>\n",
       "      <td>1.0</td>\n",
       "    </tr>\n",
       "    <tr>\n",
       "      <th>22</th>\n",
       "      <td>16</td>\n",
       "      <td>Masculino</td>\n",
       "      <td>Estudante</td>\n",
       "      <td>Solteira(o)</td>\n",
       "      <td>Fluente</td>\n",
       "      <td>0</td>\n",
       "      <td>1</td>\n",
       "      <td>19.0</td>\n",
       "      <td>Ação/Aventura;Estratégia;FPS;Luta;MOBA;RPG;Sim...</td>\n",
       "      <td>Indiferente</td>\n",
       "      <td>Desconto;Duração;Preço;Qualidade</td>\n",
       "      <td>1.0</td>\n",
       "      <td>Game Pass</td>\n",
       "      <td>10 a 30</td>\n",
       "      <td>1.0</td>\n",
       "    </tr>\n",
       "    <tr>\n",
       "      <th>23</th>\n",
       "      <td>16</td>\n",
       "      <td>Masculino</td>\n",
       "      <td>Estudante</td>\n",
       "      <td>Solteira(o)</td>\n",
       "      <td>Intermediário</td>\n",
       "      <td>0</td>\n",
       "      <td>1</td>\n",
       "      <td>2.0</td>\n",
       "      <td>Battle Royale;FPS;Terror</td>\n",
       "      <td>Mídia digital</td>\n",
       "      <td>Preço;Qualidade</td>\n",
       "      <td>0.0</td>\n",
       "      <td>NaN</td>\n",
       "      <td>30 a 50</td>\n",
       "      <td>1.0</td>\n",
       "    </tr>\n",
       "    <tr>\n",
       "      <th>24</th>\n",
       "      <td>20</td>\n",
       "      <td>Prefiro não informar</td>\n",
       "      <td>Estudante</td>\n",
       "      <td>Solteira(o)</td>\n",
       "      <td>Fluente</td>\n",
       "      <td>0</td>\n",
       "      <td>1</td>\n",
       "      <td>3.0</td>\n",
       "      <td>Estratégia;FPS;Simulação;Terror</td>\n",
       "      <td>Mídia digital</td>\n",
       "      <td>Desconto;Preço;Qualidade</td>\n",
       "      <td>0.0</td>\n",
       "      <td>NaN</td>\n",
       "      <td>1 a 10</td>\n",
       "      <td>1.0</td>\n",
       "    </tr>\n",
       "    <tr>\n",
       "      <th>25</th>\n",
       "      <td>20</td>\n",
       "      <td>Masculino</td>\n",
       "      <td>Estudante</td>\n",
       "      <td>Solteira(o)</td>\n",
       "      <td>Fluente</td>\n",
       "      <td>0</td>\n",
       "      <td>1</td>\n",
       "      <td>5.0</td>\n",
       "      <td>Ação/Aventura;Corrida;RPG</td>\n",
       "      <td>Mídia digital</td>\n",
       "      <td>Desconto;Duração;Preço;Qualidade</td>\n",
       "      <td>0.0</td>\n",
       "      <td>NaN</td>\n",
       "      <td>1 a 10</td>\n",
       "      <td>1.0</td>\n",
       "    </tr>\n",
       "    <tr>\n",
       "      <th>26</th>\n",
       "      <td>19</td>\n",
       "      <td>Outros</td>\n",
       "      <td>Estudante</td>\n",
       "      <td>Solteira(o)</td>\n",
       "      <td>Intermediário</td>\n",
       "      <td>0</td>\n",
       "      <td>1</td>\n",
       "      <td>11.0</td>\n",
       "      <td>Ação/Aventura;Estratégia;FPS;MOBA;RPG</td>\n",
       "      <td>Mídia digital</td>\n",
       "      <td>Desconto;Duração;Preço;Qualidade</td>\n",
       "      <td>0.0</td>\n",
       "      <td>NaN</td>\n",
       "      <td>10 a 30</td>\n",
       "      <td>1.0</td>\n",
       "    </tr>\n",
       "    <tr>\n",
       "      <th>27</th>\n",
       "      <td>20</td>\n",
       "      <td>Masculino</td>\n",
       "      <td>Estudante;Trabalhador</td>\n",
       "      <td>Solteira(o)</td>\n",
       "      <td>Fluente</td>\n",
       "      <td>0</td>\n",
       "      <td>1</td>\n",
       "      <td>3.0</td>\n",
       "      <td>Ação/Aventura;FPS;Luta</td>\n",
       "      <td>Mídia digital</td>\n",
       "      <td>Desconto;Preço;Qualidade</td>\n",
       "      <td>0.0</td>\n",
       "      <td>NaN</td>\n",
       "      <td>1 a 10</td>\n",
       "      <td>1.0</td>\n",
       "    </tr>\n",
       "    <tr>\n",
       "      <th>28</th>\n",
       "      <td>21</td>\n",
       "      <td>Masculino</td>\n",
       "      <td>Estudante</td>\n",
       "      <td>Solteira(o)</td>\n",
       "      <td>Intermediário</td>\n",
       "      <td>0</td>\n",
       "      <td>1</td>\n",
       "      <td>0.0</td>\n",
       "      <td>Esporte;Estratégia;FPS;Luta;RPG;Simulação;Terr...</td>\n",
       "      <td>Mídia digital</td>\n",
       "      <td>Qualidade</td>\n",
       "      <td>1.0</td>\n",
       "      <td>Twitch Prime</td>\n",
       "      <td>10 a 30</td>\n",
       "      <td>1.0</td>\n",
       "    </tr>\n",
       "    <tr>\n",
       "      <th>29</th>\n",
       "      <td>19</td>\n",
       "      <td>Masculino</td>\n",
       "      <td>Estudante</td>\n",
       "      <td>Solteira(o)</td>\n",
       "      <td>Fluente</td>\n",
       "      <td>0</td>\n",
       "      <td>1</td>\n",
       "      <td>16.0</td>\n",
       "      <td>Estratégia;Luta;MOBA;RPG</td>\n",
       "      <td>Indiferente</td>\n",
       "      <td>Preço;Qualidade</td>\n",
       "      <td>0.0</td>\n",
       "      <td>NaN</td>\n",
       "      <td>30 a 50</td>\n",
       "      <td>1.0</td>\n",
       "    </tr>\n",
       "    <tr>\n",
       "      <th>30</th>\n",
       "      <td>20</td>\n",
       "      <td>Masculino</td>\n",
       "      <td>Estudante</td>\n",
       "      <td>Solteira(o)</td>\n",
       "      <td>Intermediário</td>\n",
       "      <td>0</td>\n",
       "      <td>1</td>\n",
       "      <td>3.0</td>\n",
       "      <td>Ação/Aventura;RPG</td>\n",
       "      <td>Mídia digital</td>\n",
       "      <td>Duração;Qualidade</td>\n",
       "      <td>1.0</td>\n",
       "      <td>Assinatura WOW</td>\n",
       "      <td>10 a 30</td>\n",
       "      <td>1.0</td>\n",
       "    </tr>\n",
       "    <tr>\n",
       "      <th>31</th>\n",
       "      <td>16</td>\n",
       "      <td>Masculino</td>\n",
       "      <td>Estudante</td>\n",
       "      <td>Solteira(o)</td>\n",
       "      <td>Avançado</td>\n",
       "      <td>0</td>\n",
       "      <td>1</td>\n",
       "      <td>3.0</td>\n",
       "      <td>Estratégia;Simulação</td>\n",
       "      <td>Mídia digital</td>\n",
       "      <td>Duração;Qualidade</td>\n",
       "      <td>1.0</td>\n",
       "      <td>Nintendo Switch Online</td>\n",
       "      <td>10 a 30</td>\n",
       "      <td>1.0</td>\n",
       "    </tr>\n",
       "    <tr>\n",
       "      <th>32</th>\n",
       "      <td>16</td>\n",
       "      <td>Masculino</td>\n",
       "      <td>Trabalhador</td>\n",
       "      <td>Solteira(o)</td>\n",
       "      <td>Avançado</td>\n",
       "      <td>0</td>\n",
       "      <td>1</td>\n",
       "      <td>0.0</td>\n",
       "      <td>Ação/Aventura;Battle Royale;Estratégia;FPS</td>\n",
       "      <td>Mídia digital</td>\n",
       "      <td>Duração;Qualidade</td>\n",
       "      <td>0.0</td>\n",
       "      <td>NaN</td>\n",
       "      <td>10 a 30</td>\n",
       "      <td>1.0</td>\n",
       "    </tr>\n",
       "    <tr>\n",
       "      <th>33</th>\n",
       "      <td>19</td>\n",
       "      <td>Masculino</td>\n",
       "      <td>Estudante</td>\n",
       "      <td>Solteira(o)</td>\n",
       "      <td>Avançado</td>\n",
       "      <td>0</td>\n",
       "      <td>1</td>\n",
       "      <td>0.0</td>\n",
       "      <td>Ação/Aventura;Estratégia;RPG;Simulação</td>\n",
       "      <td>Mídia digital</td>\n",
       "      <td>Duração;Qualidade</td>\n",
       "      <td>0.0</td>\n",
       "      <td>NaN</td>\n",
       "      <td>30 a 50</td>\n",
       "      <td>1.0</td>\n",
       "    </tr>\n",
       "    <tr>\n",
       "      <th>34</th>\n",
       "      <td>16</td>\n",
       "      <td>Masculino</td>\n",
       "      <td>Estudante</td>\n",
       "      <td>Solteira(o)</td>\n",
       "      <td>Avançado</td>\n",
       "      <td>0</td>\n",
       "      <td>0</td>\n",
       "      <td>NaN</td>\n",
       "      <td>NaN</td>\n",
       "      <td>NaN</td>\n",
       "      <td>NaN</td>\n",
       "      <td>NaN</td>\n",
       "      <td>NaN</td>\n",
       "      <td>NaN</td>\n",
       "      <td>1.0</td>\n",
       "    </tr>\n",
       "    <tr>\n",
       "      <th>35</th>\n",
       "      <td>19</td>\n",
       "      <td>Masculino</td>\n",
       "      <td>Estudante</td>\n",
       "      <td>Solteira(o)</td>\n",
       "      <td>Fluente</td>\n",
       "      <td>0</td>\n",
       "      <td>0</td>\n",
       "      <td>NaN</td>\n",
       "      <td>NaN</td>\n",
       "      <td>NaN</td>\n",
       "      <td>NaN</td>\n",
       "      <td>NaN</td>\n",
       "      <td>NaN</td>\n",
       "      <td>NaN</td>\n",
       "      <td>1.0</td>\n",
       "    </tr>\n",
       "    <tr>\n",
       "      <th>36</th>\n",
       "      <td>20</td>\n",
       "      <td>Masculino</td>\n",
       "      <td>Estudante</td>\n",
       "      <td>Solteira(o)</td>\n",
       "      <td>Intermediário</td>\n",
       "      <td>0</td>\n",
       "      <td>1</td>\n",
       "      <td>6.0</td>\n",
       "      <td>Ação/Aventura;Estratégia;FPS;Luta;MOBA;RPG;Terror</td>\n",
       "      <td>Indiferente</td>\n",
       "      <td>Desconto;Duração;Preço;Qualidade</td>\n",
       "      <td>0.0</td>\n",
       "      <td>NaN</td>\n",
       "      <td>10 a 30</td>\n",
       "      <td>1.0</td>\n",
       "    </tr>\n",
       "    <tr>\n",
       "      <th>37</th>\n",
       "      <td>19</td>\n",
       "      <td>Masculino</td>\n",
       "      <td>Estudante</td>\n",
       "      <td>Solteira(o)</td>\n",
       "      <td>Fluente</td>\n",
       "      <td>0</td>\n",
       "      <td>1</td>\n",
       "      <td>4.0</td>\n",
       "      <td>Ação/Aventura;Battle Royale;Corrida;Estratégia...</td>\n",
       "      <td>Mídia digital</td>\n",
       "      <td>Desconto;Qualidade</td>\n",
       "      <td>1.0</td>\n",
       "      <td>Game Pass;Nintendo Switch Online</td>\n",
       "      <td>10 a 30</td>\n",
       "      <td>1.0</td>\n",
       "    </tr>\n",
       "    <tr>\n",
       "      <th>38</th>\n",
       "      <td>21</td>\n",
       "      <td>Masculino</td>\n",
       "      <td>Estudante</td>\n",
       "      <td>Solteira(o)</td>\n",
       "      <td>Avançado</td>\n",
       "      <td>0</td>\n",
       "      <td>1</td>\n",
       "      <td>0.0</td>\n",
       "      <td>Ação/Aventura;Battle Royale;FPS;RPG;Terror</td>\n",
       "      <td>Mídia digital</td>\n",
       "      <td>Preço;Qualidade</td>\n",
       "      <td>1.0</td>\n",
       "      <td>EA Access/Origin Access;Game Pass</td>\n",
       "      <td>Não pagaria</td>\n",
       "      <td>1.0</td>\n",
       "    </tr>\n",
       "    <tr>\n",
       "      <th>39</th>\n",
       "      <td>21</td>\n",
       "      <td>Masculino</td>\n",
       "      <td>Estudante</td>\n",
       "      <td>Solteira(o)</td>\n",
       "      <td>Avançado</td>\n",
       "      <td>0</td>\n",
       "      <td>1</td>\n",
       "      <td>0.0</td>\n",
       "      <td>Ação/Aventura;Battle Royale;FPS</td>\n",
       "      <td>Mídia digital</td>\n",
       "      <td>Qualidade</td>\n",
       "      <td>1.0</td>\n",
       "      <td>EA Access/Origin Access;Game Pass</td>\n",
       "      <td>30 a 50</td>\n",
       "      <td>1.0</td>\n",
       "    </tr>\n",
       "    <tr>\n",
       "      <th>40</th>\n",
       "      <td>15</td>\n",
       "      <td>Masculino</td>\n",
       "      <td>Estudante</td>\n",
       "      <td>Separada(o)</td>\n",
       "      <td>Nenhum</td>\n",
       "      <td>0</td>\n",
       "      <td>1</td>\n",
       "      <td>3.0</td>\n",
       "      <td>Ação/Aventura;Estratégia;Luta;RPG;Simulação</td>\n",
       "      <td>Indiferente</td>\n",
       "      <td>Desconto;Qualidade</td>\n",
       "      <td>1.0</td>\n",
       "      <td>Game Pass</td>\n",
       "      <td>30 a 50</td>\n",
       "      <td>1.0</td>\n",
       "    </tr>\n",
       "    <tr>\n",
       "      <th>41</th>\n",
       "      <td>19</td>\n",
       "      <td>Masculino</td>\n",
       "      <td>Estudante</td>\n",
       "      <td>Solteira(o)</td>\n",
       "      <td>Avançado</td>\n",
       "      <td>0</td>\n",
       "      <td>1</td>\n",
       "      <td>0.0</td>\n",
       "      <td>Ação/Aventura;Battle Royale;Luta</td>\n",
       "      <td>Mídia digital</td>\n",
       "      <td>Preço;Qualidade</td>\n",
       "      <td>0.0</td>\n",
       "      <td>NaN</td>\n",
       "      <td>10 a 30</td>\n",
       "      <td>1.0</td>\n",
       "    </tr>\n",
       "    <tr>\n",
       "      <th>42</th>\n",
       "      <td>23</td>\n",
       "      <td>Masculino</td>\n",
       "      <td>Estudante;Trabalhador</td>\n",
       "      <td>Solteira(o)</td>\n",
       "      <td>Básico</td>\n",
       "      <td>0</td>\n",
       "      <td>1</td>\n",
       "      <td>0.0</td>\n",
       "      <td>Ação/Aventura;Battle Royale;Corrida;Esporte;Es...</td>\n",
       "      <td>Indiferente</td>\n",
       "      <td>Qualidade;Indiferente</td>\n",
       "      <td>1.0</td>\n",
       "      <td>EA Access/Origin Access;Game Pass</td>\n",
       "      <td>10 a 30</td>\n",
       "      <td>1.0</td>\n",
       "    </tr>\n",
       "    <tr>\n",
       "      <th>43</th>\n",
       "      <td>16</td>\n",
       "      <td>Masculino</td>\n",
       "      <td>Estudante</td>\n",
       "      <td>Solteira(o)</td>\n",
       "      <td>Básico</td>\n",
       "      <td>0</td>\n",
       "      <td>1</td>\n",
       "      <td>0.0</td>\n",
       "      <td>Battle Royale</td>\n",
       "      <td>Indiferente</td>\n",
       "      <td>Preço;Qualidade</td>\n",
       "      <td>1.0</td>\n",
       "      <td>Game Pass</td>\n",
       "      <td>30 a 50</td>\n",
       "      <td>1.0</td>\n",
       "    </tr>\n",
       "    <tr>\n",
       "      <th>44</th>\n",
       "      <td>18</td>\n",
       "      <td>Masculino</td>\n",
       "      <td>Estudante</td>\n",
       "      <td>Solteira(o)</td>\n",
       "      <td>Intermediário</td>\n",
       "      <td>0</td>\n",
       "      <td>1</td>\n",
       "      <td>0.0</td>\n",
       "      <td>Ação/Aventura;Corrida;Esporte;Estratégia;FPS;R...</td>\n",
       "      <td>Mídia digital</td>\n",
       "      <td>Desconto;Duração;Preço;Qualidade;Indiferente</td>\n",
       "      <td>1.0</td>\n",
       "      <td>EA Access/Origin Access;Game Pass</td>\n",
       "      <td>50 a 70</td>\n",
       "      <td>1.0</td>\n",
       "    </tr>\n",
       "    <tr>\n",
       "      <th>45</th>\n",
       "      <td>18</td>\n",
       "      <td>Masculino</td>\n",
       "      <td>Estudante</td>\n",
       "      <td>Solteira(o)</td>\n",
       "      <td>Básico</td>\n",
       "      <td>0</td>\n",
       "      <td>1</td>\n",
       "      <td>0.0</td>\n",
       "      <td>FPS</td>\n",
       "      <td>Mídia digital</td>\n",
       "      <td>Qualidade</td>\n",
       "      <td>1.0</td>\n",
       "      <td>Game Pass</td>\n",
       "      <td>50 a 70</td>\n",
       "      <td>1.0</td>\n",
       "    </tr>\n",
       "    <tr>\n",
       "      <th>46</th>\n",
       "      <td>20</td>\n",
       "      <td>Feminino</td>\n",
       "      <td>Estudante</td>\n",
       "      <td>Solteira(o)</td>\n",
       "      <td>Fluente</td>\n",
       "      <td>0</td>\n",
       "      <td>0</td>\n",
       "      <td>NaN</td>\n",
       "      <td>NaN</td>\n",
       "      <td>NaN</td>\n",
       "      <td>NaN</td>\n",
       "      <td>NaN</td>\n",
       "      <td>NaN</td>\n",
       "      <td>NaN</td>\n",
       "      <td>1.0</td>\n",
       "    </tr>\n",
       "    <tr>\n",
       "      <th>47</th>\n",
       "      <td>18</td>\n",
       "      <td>Masculino</td>\n",
       "      <td>Estudante</td>\n",
       "      <td>Solteira(o)</td>\n",
       "      <td>Intermediário</td>\n",
       "      <td>0</td>\n",
       "      <td>1</td>\n",
       "      <td>1.0</td>\n",
       "      <td>Ação/Aventura;Esporte;FPS;Luta;RPG;Terror</td>\n",
       "      <td>Mídia física</td>\n",
       "      <td>Preço;Qualidade</td>\n",
       "      <td>1.0</td>\n",
       "      <td>Playstation Plus</td>\n",
       "      <td>10 a 30</td>\n",
       "      <td>1.0</td>\n",
       "    </tr>\n",
       "    <tr>\n",
       "      <th>48</th>\n",
       "      <td>19</td>\n",
       "      <td>Masculino</td>\n",
       "      <td>Estudante</td>\n",
       "      <td>Solteira(o)</td>\n",
       "      <td>Intermediário</td>\n",
       "      <td>0</td>\n",
       "      <td>1</td>\n",
       "      <td>1.0</td>\n",
       "      <td>Ação/Aventura;Estratégia;FPS;Simulação</td>\n",
       "      <td>Indiferente</td>\n",
       "      <td>Duração;Preço;Qualidade</td>\n",
       "      <td>0.0</td>\n",
       "      <td>NaN</td>\n",
       "      <td>10 a 30</td>\n",
       "      <td>1.0</td>\n",
       "    </tr>\n",
       "    <tr>\n",
       "      <th>49</th>\n",
       "      <td>19</td>\n",
       "      <td>Masculino</td>\n",
       "      <td>Estudante;Trabalhador</td>\n",
       "      <td>Solteira(o)</td>\n",
       "      <td>Intermediário</td>\n",
       "      <td>0</td>\n",
       "      <td>1</td>\n",
       "      <td>0.0</td>\n",
       "      <td>Ação/Aventura;Estratégia;FPS;Terror</td>\n",
       "      <td>Mídia digital</td>\n",
       "      <td>Preço;Qualidade</td>\n",
       "      <td>1.0</td>\n",
       "      <td>Playstation Plus</td>\n",
       "      <td>30 a 50</td>\n",
       "      <td>1.0</td>\n",
       "    </tr>\n",
       "  </tbody>\n",
       "</table>\n",
       "</div>"
      ],
      "text/plain": [
       "    idade                genero                ocupacao       estado  \\\n",
       "0      20              Feminino               Estudante  Solteira(o)   \n",
       "1      20             Masculino               Estudante  Solteira(o)   \n",
       "2      20              Feminino               Estudante  Solteira(o)   \n",
       "3      20             Masculino               Estudante  Solteira(o)   \n",
       "4      15             Masculino               Estudante    Casada(o)   \n",
       "5      55              Feminino            Desempregado    Casada(o)   \n",
       "6      21             Masculino               Estudante  Solteira(o)   \n",
       "7      19             Masculino               Estudante  Solteira(o)   \n",
       "8      20             Masculino               Estudante  Solteira(o)   \n",
       "9      21             Masculino               Estudante  Solteira(o)   \n",
       "10     20             Masculino               Estudante  Solteira(o)   \n",
       "11     19             Masculino               Estudante  Solteira(o)   \n",
       "12     21             Masculino               Estudante  Solteira(o)   \n",
       "13     20             Masculino               Estudante  Solteira(o)   \n",
       "14     19             Masculino               Estudante  Solteira(o)   \n",
       "15     20             Masculino               Estudante  Solteira(o)   \n",
       "16     20             Masculino               Estudante  Solteira(o)   \n",
       "17     20                Outros               Estudante  Solteira(o)   \n",
       "18     15             Masculino  Estudante;Desempregado  Solteira(o)   \n",
       "19     18              Feminino  Estudante;Desempregado  Solteira(o)   \n",
       "20     16             Masculino               Estudante  Solteira(o)   \n",
       "21     15             Masculino               Estudante  Solteira(o)   \n",
       "22     16             Masculino               Estudante  Solteira(o)   \n",
       "23     16             Masculino               Estudante  Solteira(o)   \n",
       "24     20  Prefiro não informar               Estudante  Solteira(o)   \n",
       "25     20             Masculino               Estudante  Solteira(o)   \n",
       "26     19                Outros               Estudante  Solteira(o)   \n",
       "27     20             Masculino   Estudante;Trabalhador  Solteira(o)   \n",
       "28     21             Masculino               Estudante  Solteira(o)   \n",
       "29     19             Masculino               Estudante  Solteira(o)   \n",
       "30     20             Masculino               Estudante  Solteira(o)   \n",
       "31     16             Masculino               Estudante  Solteira(o)   \n",
       "32     16             Masculino             Trabalhador  Solteira(o)   \n",
       "33     19             Masculino               Estudante  Solteira(o)   \n",
       "34     16             Masculino               Estudante  Solteira(o)   \n",
       "35     19             Masculino               Estudante  Solteira(o)   \n",
       "36     20             Masculino               Estudante  Solteira(o)   \n",
       "37     19             Masculino               Estudante  Solteira(o)   \n",
       "38     21             Masculino               Estudante  Solteira(o)   \n",
       "39     21             Masculino               Estudante  Solteira(o)   \n",
       "40     15             Masculino               Estudante  Separada(o)   \n",
       "41     19             Masculino               Estudante  Solteira(o)   \n",
       "42     23             Masculino   Estudante;Trabalhador  Solteira(o)   \n",
       "43     16             Masculino               Estudante  Solteira(o)   \n",
       "44     18             Masculino               Estudante  Solteira(o)   \n",
       "45     18             Masculino               Estudante  Solteira(o)   \n",
       "46     20              Feminino               Estudante  Solteira(o)   \n",
       "47     18             Masculino               Estudante  Solteira(o)   \n",
       "48     19             Masculino               Estudante  Solteira(o)   \n",
       "49     19             Masculino   Estudante;Trabalhador  Solteira(o)   \n",
       "\n",
       "           ingles  filhos  joga  quant_jogos  \\\n",
       "0         Fluente       0     1          0.0   \n",
       "1         Fluente       0     1          1.0   \n",
       "2   Intermediário       0     1          1.0   \n",
       "3         Fluente       0     1          3.0   \n",
       "4        Avançado       1     1          0.0   \n",
       "5   Intermediário       1     0          NaN   \n",
       "6          Básico       0     0          NaN   \n",
       "7   Intermediário       0     0          NaN   \n",
       "8   Intermediário       0     1          3.0   \n",
       "9         Fluente       0     1          0.0   \n",
       "10       Avançado       0     1          3.0   \n",
       "11       Avançado       0     1          1.0   \n",
       "12        Fluente       0     1          3.0   \n",
       "13       Avançado       0     1          1.0   \n",
       "14        Fluente       0     1          4.0   \n",
       "15        Fluente       0     1         12.0   \n",
       "16        Fluente       0     1          3.0   \n",
       "17        Fluente       0     1          0.0   \n",
       "18        Fluente       0     1          3.0   \n",
       "19       Avançado       0     1          1.0   \n",
       "20  Intermediário       0     1          0.0   \n",
       "21       Avançado       0     1          9.0   \n",
       "22        Fluente       0     1         19.0   \n",
       "23  Intermediário       0     1          2.0   \n",
       "24        Fluente       0     1          3.0   \n",
       "25        Fluente       0     1          5.0   \n",
       "26  Intermediário       0     1         11.0   \n",
       "27        Fluente       0     1          3.0   \n",
       "28  Intermediário       0     1          0.0   \n",
       "29        Fluente       0     1         16.0   \n",
       "30  Intermediário       0     1          3.0   \n",
       "31       Avançado       0     1          3.0   \n",
       "32       Avançado       0     1          0.0   \n",
       "33       Avançado       0     1          0.0   \n",
       "34       Avançado       0     0          NaN   \n",
       "35        Fluente       0     0          NaN   \n",
       "36  Intermediário       0     1          6.0   \n",
       "37        Fluente       0     1          4.0   \n",
       "38       Avançado       0     1          0.0   \n",
       "39       Avançado       0     1          0.0   \n",
       "40         Nenhum       0     1          3.0   \n",
       "41       Avançado       0     1          0.0   \n",
       "42         Básico       0     1          0.0   \n",
       "43         Básico       0     1          0.0   \n",
       "44  Intermediário       0     1          0.0   \n",
       "45         Básico       0     1          0.0   \n",
       "46        Fluente       0     0          NaN   \n",
       "47  Intermediário       0     1          1.0   \n",
       "48  Intermediário       0     1          1.0   \n",
       "49  Intermediário       0     1          0.0   \n",
       "\n",
       "                                            fav_jogos          midia  \\\n",
       "0                                       Ação/Aventura  Mídia digital   \n",
       "1              Ação/Aventura;Estratégia;RPG;Simulação   Mídia física   \n",
       "2                         Ação/Aventura;FPS;Simulação    Indiferente   \n",
       "3   Ação/Aventura;Battle Royale;Corrida;Luta;RPG;S...    Indiferente   \n",
       "4                                      Estratégia;RPG    Indiferente   \n",
       "5                                                 NaN            NaN   \n",
       "6                                                 NaN            NaN   \n",
       "7                                                 NaN            NaN   \n",
       "8                  Estratégia;RPG;Simulação;Roguelike  Mídia digital   \n",
       "9                                      Estratégia;RPG  Mídia digital   \n",
       "10                                 FPS;Luta;Simulação  Mídia digital   \n",
       "11                          Ação/Aventura;Esporte;RPG  Mídia digital   \n",
       "12                   Ação/Aventura;Estratégia;FPS;RPG  Mídia digital   \n",
       "13                                 Ação/Aventura;MOBA  Mídia digital   \n",
       "14                                                FPS  Mídia digital   \n",
       "15  Ação/Aventura;Estratégia;FPS;RPG;Simulação;Ter...  Mídia digital   \n",
       "16          Ação/Aventura;Esporte;Estratégia;MOBA;RPG    Indiferente   \n",
       "17                  Corrida;Esporte;FPS;RPG;Simulação    Indiferente   \n",
       "18                          Ação/Aventura;Esporte;FPS  Mídia digital   \n",
       "19                                          Simulação    Indiferente   \n",
       "20               Ação/Aventura;Estratégia;FPS;Sandbox    Indiferente   \n",
       "21           Ação/Aventura;Esporte;Estratégia;FPS;RPG   Mídia física   \n",
       "22  Ação/Aventura;Estratégia;FPS;Luta;MOBA;RPG;Sim...    Indiferente   \n",
       "23                           Battle Royale;FPS;Terror  Mídia digital   \n",
       "24                    Estratégia;FPS;Simulação;Terror  Mídia digital   \n",
       "25                          Ação/Aventura;Corrida;RPG  Mídia digital   \n",
       "26              Ação/Aventura;Estratégia;FPS;MOBA;RPG  Mídia digital   \n",
       "27                             Ação/Aventura;FPS;Luta  Mídia digital   \n",
       "28  Esporte;Estratégia;FPS;Luta;RPG;Simulação;Terr...  Mídia digital   \n",
       "29                           Estratégia;Luta;MOBA;RPG    Indiferente   \n",
       "30                                  Ação/Aventura;RPG  Mídia digital   \n",
       "31                               Estratégia;Simulação  Mídia digital   \n",
       "32         Ação/Aventura;Battle Royale;Estratégia;FPS  Mídia digital   \n",
       "33             Ação/Aventura;Estratégia;RPG;Simulação  Mídia digital   \n",
       "34                                                NaN            NaN   \n",
       "35                                                NaN            NaN   \n",
       "36  Ação/Aventura;Estratégia;FPS;Luta;MOBA;RPG;Terror    Indiferente   \n",
       "37  Ação/Aventura;Battle Royale;Corrida;Estratégia...  Mídia digital   \n",
       "38         Ação/Aventura;Battle Royale;FPS;RPG;Terror  Mídia digital   \n",
       "39                    Ação/Aventura;Battle Royale;FPS  Mídia digital   \n",
       "40        Ação/Aventura;Estratégia;Luta;RPG;Simulação    Indiferente   \n",
       "41                   Ação/Aventura;Battle Royale;Luta  Mídia digital   \n",
       "42  Ação/Aventura;Battle Royale;Corrida;Esporte;Es...    Indiferente   \n",
       "43                                      Battle Royale    Indiferente   \n",
       "44  Ação/Aventura;Corrida;Esporte;Estratégia;FPS;R...  Mídia digital   \n",
       "45                                                FPS  Mídia digital   \n",
       "46                                                NaN            NaN   \n",
       "47          Ação/Aventura;Esporte;FPS;Luta;RPG;Terror   Mídia física   \n",
       "48             Ação/Aventura;Estratégia;FPS;Simulação    Indiferente   \n",
       "49                Ação/Aventura;Estratégia;FPS;Terror  Mídia digital   \n",
       "\n",
       "                                 importante_jogo  assina  \\\n",
       "0                                    Indiferente     0.0   \n",
       "1               Desconto;Duração;Preço;Qualidade     0.0   \n",
       "2                        Duração;Preço;Qualidade     0.0   \n",
       "3                       Desconto;Preço;Qualidade     1.0   \n",
       "4                       Desconto;Preço;Qualidade     1.0   \n",
       "5                                            NaN     NaN   \n",
       "6                                            NaN     NaN   \n",
       "7                                            NaN     NaN   \n",
       "8                                      Qualidade     0.0   \n",
       "9                                      Qualidade     0.0   \n",
       "10                            Desconto;Qualidade     0.0   \n",
       "11                                     Qualidade     1.0   \n",
       "12              Desconto;Duração;Preço;Qualidade     1.0   \n",
       "13              Desconto;Duração;Preço;Qualidade     0.0   \n",
       "14                      Desconto;Preço;Qualidade     0.0   \n",
       "15              Desconto;Duração;Preço;Qualidade     1.0   \n",
       "16                             Duração;Qualidade     0.0   \n",
       "17                      Desconto;Preço;Qualidade     1.0   \n",
       "18              Desconto;Duração;Preço;Qualidade     0.0   \n",
       "19                               Preço;Qualidade     0.0   \n",
       "20                      Desconto;Preço;Qualidade     0.0   \n",
       "21              Desconto;Duração;Preço;Qualidade     1.0   \n",
       "22              Desconto;Duração;Preço;Qualidade     1.0   \n",
       "23                               Preço;Qualidade     0.0   \n",
       "24                      Desconto;Preço;Qualidade     0.0   \n",
       "25              Desconto;Duração;Preço;Qualidade     0.0   \n",
       "26              Desconto;Duração;Preço;Qualidade     0.0   \n",
       "27                      Desconto;Preço;Qualidade     0.0   \n",
       "28                                     Qualidade     1.0   \n",
       "29                               Preço;Qualidade     0.0   \n",
       "30                             Duração;Qualidade     1.0   \n",
       "31                             Duração;Qualidade     1.0   \n",
       "32                             Duração;Qualidade     0.0   \n",
       "33                             Duração;Qualidade     0.0   \n",
       "34                                           NaN     NaN   \n",
       "35                                           NaN     NaN   \n",
       "36              Desconto;Duração;Preço;Qualidade     0.0   \n",
       "37                            Desconto;Qualidade     1.0   \n",
       "38                               Preço;Qualidade     1.0   \n",
       "39                                     Qualidade     1.0   \n",
       "40                            Desconto;Qualidade     1.0   \n",
       "41                               Preço;Qualidade     0.0   \n",
       "42                         Qualidade;Indiferente     1.0   \n",
       "43                               Preço;Qualidade     1.0   \n",
       "44  Desconto;Duração;Preço;Qualidade;Indiferente     1.0   \n",
       "45                                     Qualidade     1.0   \n",
       "46                                           NaN     NaN   \n",
       "47                               Preço;Qualidade     1.0   \n",
       "48                       Duração;Preço;Qualidade     0.0   \n",
       "49                               Preço;Qualidade     1.0   \n",
       "\n",
       "                                                quais         paga  count  \n",
       "0                                                 NaN  Não pagaria    1.0  \n",
       "1                                                 NaN      10 a 30    1.0  \n",
       "2                                                 NaN      10 a 30    1.0  \n",
       "3   Game Pass;Prime gaming, epic games (não é pago...      10 a 30    1.0  \n",
       "4                                           Game Pass      30 a 50    1.0  \n",
       "5                                                 NaN          NaN    1.0  \n",
       "6                                                 NaN          NaN    1.0  \n",
       "7                                                 NaN          NaN    1.0  \n",
       "8                                                 NaN      10 a 30    1.0  \n",
       "9                                                 NaN      10 a 30    1.0  \n",
       "10                                                NaN      10 a 30    1.0  \n",
       "11                         Game Pass;Playstation Plus      30 a 50    1.0  \n",
       "12                  EA Access/Origin Access;Game Pass      30 a 50    1.0  \n",
       "13                                                NaN      10 a 30    1.0  \n",
       "14                                                NaN      10 a 30    1.0  \n",
       "15  EA Access/Origin Access;Game Pass;Nintendo Swi...      30 a 50    1.0  \n",
       "16                                                NaN      30 a 50    1.0  \n",
       "17                                   Playstation Plus  Não pagaria    1.0  \n",
       "18                                                NaN      30 a 50    1.0  \n",
       "19                                                NaN  Não pagaria    1.0  \n",
       "20                                                NaN      10 a 30    1.0  \n",
       "21                                   Playstation Plus      10 a 30    1.0  \n",
       "22                                          Game Pass      10 a 30    1.0  \n",
       "23                                                NaN      30 a 50    1.0  \n",
       "24                                                NaN       1 a 10    1.0  \n",
       "25                                                NaN       1 a 10    1.0  \n",
       "26                                                NaN      10 a 30    1.0  \n",
       "27                                                NaN       1 a 10    1.0  \n",
       "28                                       Twitch Prime      10 a 30    1.0  \n",
       "29                                                NaN      30 a 50    1.0  \n",
       "30                                     Assinatura WOW      10 a 30    1.0  \n",
       "31                             Nintendo Switch Online      10 a 30    1.0  \n",
       "32                                                NaN      10 a 30    1.0  \n",
       "33                                                NaN      30 a 50    1.0  \n",
       "34                                                NaN          NaN    1.0  \n",
       "35                                                NaN          NaN    1.0  \n",
       "36                                                NaN      10 a 30    1.0  \n",
       "37                   Game Pass;Nintendo Switch Online      10 a 30    1.0  \n",
       "38                  EA Access/Origin Access;Game Pass  Não pagaria    1.0  \n",
       "39                  EA Access/Origin Access;Game Pass      30 a 50    1.0  \n",
       "40                                          Game Pass      30 a 50    1.0  \n",
       "41                                                NaN      10 a 30    1.0  \n",
       "42                  EA Access/Origin Access;Game Pass      10 a 30    1.0  \n",
       "43                                          Game Pass      30 a 50    1.0  \n",
       "44                  EA Access/Origin Access;Game Pass      50 a 70    1.0  \n",
       "45                                          Game Pass      50 a 70    1.0  \n",
       "46                                                NaN          NaN    1.0  \n",
       "47                                   Playstation Plus      10 a 30    1.0  \n",
       "48                                                NaN      10 a 30    1.0  \n",
       "49                                   Playstation Plus      30 a 50    1.0  "
      ]
     },
     "execution_count": 176,
     "metadata": {},
     "output_type": "execute_result"
    },
    {
     "data": {
      "image/png": "[encoded data removed]",
      "text/plain": [
       "<Figure size 432x288 with 1 Axes>"
      ]
     },
     "metadata": {
      "needs_background": "light"
     },
     "output_type": "display_data"
    }
   ],
   "source": [
    "\n",
    "sns.countplot(x='quant_jogos', data=Emprego, hue='ocupacao').set(title='Quant_assina')\n",
    "#maioria dos consumidores sao estudantes\n"
   ]
  }
 ],
 "metadata": {
  "interpreter": {
   "hash": "26de051ba29f2982a8de78e945f0abaf191376122a1563185a90213a26c5da77"
  },
  "kernelspec": {
   "display_name": "Python 3.10.4 64-bit",
   "language": "python",
   "name": "python3"
  },
  "language_info": {
   "codemirror_mode": {
    "name": "ipython",
    "version": 3
   },
   "file_extension": ".py",
   "mimetype": "text/x-python",
   "name": "python",
   "nbconvert_exporter": "python",
   "pygments_lexer": "ipython3",
   "version": "3.10.4"
  },
  "orig_nbformat": 4
 },
 "nbformat": 4,
 "nbformat_minor": 2
}
