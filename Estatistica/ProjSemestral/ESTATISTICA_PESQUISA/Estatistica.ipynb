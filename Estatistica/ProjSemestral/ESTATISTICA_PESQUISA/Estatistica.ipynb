{
 "cells": [
  {
   "cell_type": "markdown",
   "metadata": {},
   "source": [
    "Pesquisa de estatistica\n",
    "\n",
    "\n",
    "importado dados dos csvs"
   ]
  },
  {
   "cell_type": "code",
   "execution_count": null,
   "metadata": {},
   "outputs": [],
   "source": [
    "\n",
    "!pip install nbformat \n",
    "import plotly.express as px\n",
    "import matplotlib.pyplot as plt\n"
   ]
  },
  {
   "cell_type": "code",
   "execution_count": null,
   "metadata": {},
   "outputs": [],
   "source": [
    "\n",
    "#pip install pandas\n",
    "#pip install numpy\n",
    "\n",
    "import pandas as pd\n",
    "import numpy as np\n",
    "import math\n",
    "import seaborn as sns\n",
    "\n",
    "data=pd.read_csv('Serviços de assinaturas de jogos - Pesquisa .csv')\n",
    "gringoData=pd.read_csv('INGLES Serviços de assinaturas de jogos.csv')\n",
    "original=len(data)\n"
   ]
  },
  {
   "cell_type": "markdown",
   "metadata": {},
   "source": [
    "Olhando os dados obtidos da pesquisa"
   ]
  },
  {
   "cell_type": "code",
   "execution_count": null,
   "metadata": {},
   "outputs": [],
   "source": [
    "data.head(1)"
   ]
  },
  {
   "cell_type": "code",
   "execution_count": null,
   "metadata": {},
   "outputs": [],
   "source": [
    "gringoData.head(1)"
   ]
  },
  {
   "cell_type": "markdown",
   "metadata": {},
   "source": [
    "Renomeando os titulos"
   ]
  },
  {
   "cell_type": "code",
   "execution_count": null,
   "metadata": {},
   "outputs": [],
   "source": [
    "if(data.columns[0]=='Carimbo de data/hora'):\n",
    "    data.drop(\"Carimbo de data/hora\", axis=1, inplace=True)\n",
    "    gringoData.drop(\"Carimbo de data/hora\", axis=1, inplace=True)\n",
    "    print(\"removido\")"
   ]
  },
  {
   "cell_type": "code",
   "execution_count": null,
   "metadata": {},
   "outputs": [],
   "source": [
    "titulos=['idade', \n",
    "        'genero',\n",
    "       'ocupacao',\n",
    "        'estado',# estado civil\n",
    "       'ingles', # nivel de ingles\n",
    "       'filhos', # tem filhos\n",
    "       'joga',   #joga videogames?\n",
    "       'quant_jogos',#quantos jogos voce comprou?\n",
    "       'fav_jogos',#titulo favorito                                              (falta traduzir os titulos)\n",
    "       'midia',     #prefere qual midia de jogos (fisica/digita)\n",
    "       'importante_jogo',\n",
    "       'assina', \n",
    "       'quais',#o que assina \n",
    "       'paga' # quanto ira pagar\n",
    "       ]\n",
    "\n"
   ]
  },
  {
   "cell_type": "markdown",
   "metadata": {},
   "source": [
    "O tempo e hora da resposta é irrelevante para a pequisa entao iremos removelos\n",
    "\n",
    "Como temos dados em duas linguas iremos traduzir as perguntas e dados para o PORTUGUES"
   ]
  },
  {
   "cell_type": "code",
   "execution_count": null,
   "metadata": {},
   "outputs": [],
   "source": [
    "data.columns=titulos\n",
    "gringoData.columns=titulos\n",
    "print(data.columns==gringoData.columns)\n",
    "data.head(1)"
   ]
  },
  {
   "cell_type": "code",
   "execution_count": null,
   "metadata": {},
   "outputs": [],
   "source": [
    "i=1\n",
    "while i<8:\n",
    "    \n",
    "    print(data[titulos[i]].unique())\n",
    "    i=i+1\n",
    "\n",
    "i=9\n",
    "while i<len(gringoData.columns):\n",
    "    \n",
    "    print(data[titulos[i]].unique())\n",
    "    i=i+1\n",
    "\n",
    "print(\"\\n\")\n",
    "\n",
    "\n",
    "    \n"
   ]
  },
  {
   "cell_type": "code",
   "execution_count": null,
   "metadata": {},
   "outputs": [],
   "source": [
    "i=1\n",
    "while i<8:\n",
    "    \n",
    "    print(gringoData[titulos[i]].unique())\n",
    "    i=i+1\n",
    "\n",
    "i=9\n",
    "while i<len(gringoData.columns):\n",
    "    \n",
    "    print(gringoData[titulos[i]].unique())\n",
    "    i=i+1"
   ]
  },
  {
   "cell_type": "code",
   "execution_count": null,
   "metadata": {},
   "outputs": [],
   "source": [
    "tradutor={\n",
    "'Masculine':'Masculino',\n",
    "'Feminine' : 'Feminino',\n",
    "'Other'    :  'Outro',\n",
    "'I prefer to not inform'         :  'Prefiro não informar',\n",
    "'Student'   :   'Estudante',\n",
    "'Unemployed':   'Desempregado',\n",
    "'Employed':   'Trabalhador',\n",
    "'Single'    :  'Solteira(o)',\n",
    "'Maried'    :   'Casada(o)',\n",
    "'Fluent'    : \"Fluente\",\n",
    "\"I'm a native English speaker\"  : 'Tenho ingles nativo',\n",
    "'Advanced'  :   'Avançado',\n",
    "'No'        :   'Não',\n",
    "'Yes'       :   'Sim',\n",
    "'Digital media' :   'Mídia digital',\n",
    "'Physical media':   'Mídia física',\n",
    "'Indifferent'   :   'Indiferente',\n",
    "\"Wouldn't pay\"  :   'Não pagaria',\n",
    "'1 a 10'    :   '1 a 10 DOLAR',\n",
    "'10 a 30'    :   '10 a 30 DOLAR',\n",
    "'30 a 50'    :   '30 a 50 DOLAR',\n",
    "'50 a 70'    :   '50 a 70 DOLAR',\n",
    "'70 a 100'    :   '70 a 100 DOLAR',\n",
    "\n",
    "}\n",
    "gringoData=gringoData.replace(tradutor)\n",
    "gringoData.head(3)"
   ]
  },
  {
   "cell_type": "code",
   "execution_count": null,
   "metadata": {},
   "outputs": [],
   "source": [
    "def replace_all(text, dic):\n",
    "    for i, j in dic.items():\n",
    "        text = text.replace(i, j)\n",
    "    return text\n",
    "\n",
    "\n",
    "jogos={\n",
    "    'Action/Adventure'  : 'Ação/Aventura',\n",
    "    'Race'              : 'Corrida',\n",
    "    'Sport'             : 'Esporte',\n",
    "    'Strategy'          : 'Estrategia',\n",
    "    'Fighting game'     : 'Luta',\n",
    "    'Simulation'        : 'Simulação',\n",
    "    'Horror'            :  'Terror'\n",
    "\n",
    "}\n",
    "\n",
    "\n",
    "i=0\n",
    "\n",
    "while i<len(gringoData):\n",
    "\n",
    "    txt=gringoData['fav_jogos'][i]\n",
    "    x = replace_all(txt, jogos)\n",
    "    gringoData['fav_jogos']=gringoData['fav_jogos'].replace(gringoData['fav_jogos'][i],x)\n",
    "    i=i+1\n",
    "\n",
    "gringoData['fav_jogos']\n",
    "\n"
   ]
  },
  {
   "cell_type": "code",
   "execution_count": null,
   "metadata": {},
   "outputs": [],
   "source": [
    "criterios={\n",
    "    'Sale'          :   'Desconto',\n",
    "    'Duration'      :   'Duração',\n",
    "    'Price'         :   'Preço',\n",
    "    'Quality'       :   'Qualidade',\n",
    "    'Indifferent'   :   'Indiferente',\n",
    "\n",
    "}\n",
    "\n",
    "\n",
    "i=0\n",
    "\n",
    "while i<len(gringoData):\n",
    "\n",
    "    txt=gringoData['importante_jogo'][i]\n",
    "    x = replace_all(txt, criterios)\n",
    "    gringoData['importante_jogo']=gringoData['importante_jogo'].replace(gringoData['importante_jogo'][i],x)\n",
    "    i=i+1\n",
    "\n",
    "gringoData['importante_jogo']"
   ]
  },
  {
   "cell_type": "code",
   "execution_count": null,
   "metadata": {},
   "outputs": [],
   "source": [
    "if(len(data)==original):\n",
    "    data=data.append(gringoData, ignore_index=True)#lembra de excluir o gringoData \n",
    "\n",
    "#data['quais'] = data['quais'].replace(np.nan, -1)\n",
    "i=0\n",
    "while i<len(titulos):\n",
    "    #data[titulos[i]] = data[titulos[i]].replace(np.nan, -1)#arrumar(n_joga aparece)\n",
    "    data[titulos[i]] = data[titulos[i]].replace('Não', 0)\n",
    "    data[titulos[i]] = data[titulos[i]].replace('Sim', 1)\n",
    "    i+=1"
   ]
  },
  {
   "cell_type": "code",
   "execution_count": null,
   "metadata": {},
   "outputs": [],
   "source": [
    "count=np.ones(len(data))\n",
    "data['count']=count\n",
    "data.tail(3)"
   ]
  },
  {
   "cell_type": "code",
   "execution_count": null,
   "metadata": {},
   "outputs": [],
   "source": [
    "def plot_bar(data,variable):\n",
    "    varValue=data[variable].value_counts()\n",
    "    \n",
    "    plt.figure(figsize = (9,5))\n",
    "    plt.bar(varValue.index, varValue,color=\"#A984EA\",ec=\"#7332D6\")\n",
    "    plt.xticks(varValue.index, varValue.index.values)#o que isso siguinifica?? socorro\n",
    "    plt.ylabel(\"Frequency\")\n",
    "    plt.title(variable)\n",
    "    plt.show()\n"
   ]
  },
  {
   "cell_type": "code",
   "execution_count": null,
   "metadata": {},
   "outputs": [],
   "source": [
    "def plot_hist(data,variable):\n",
    "    varValue=data[variable].value_counts()\n",
    "\n",
    "    plt.figure(figsize = (9,5))\n",
    "    plt.hist(data[variable],color=\"#0ABAB5\",bins=20)\n",
    "    plt.ylabel(\"Frequency\")\n",
    "    plt.xlabel(variable)\n",
    "    plt.title(variable+' distribution')\n",
    "    plt.show()"
   ]
  },
  {
   "cell_type": "code",
   "execution_count": null,
   "metadata": {},
   "outputs": [],
   "source": [
    "categorias_todas=['idade','genero',\t'ocupacao',\t'estado','ingles','filhos','joga','quant_jogos','fav_jogos','midia','importante_jogo','assina','quais','paga','count']\n",
    "categorias0=['idade']\n",
    "categorias1=['genero',\t'ocupacao',\t'estado'\t,'ingles'\t,'filhos'\t,'joga'\t,'quant_jogos'\t,\t'assina']\n"
   ]
  },
  {
   "cell_type": "code",
   "execution_count": null,
   "metadata": {},
   "outputs": [],
   "source": [
    "profInvalida={\n",
    "\n",
    "'Autônomo/Freelacer' : 'Trabalhador',\n",
    "'Advogada'          : 'Trabalhador',\n",
    "'Empresario'    : 'Trabalhador',\n",
    "\"Registrador Civil\" : 'Trabalhador',\n",
    "'Empreendedor': 'Trabalhador',\n",
    "'Estudante;ASTROFISICO': 'Trabalhador'\n",
    "}\n",
    "\n",
    "data=data.replace(profInvalida)\n"
   ]
  },
  {
   "cell_type": "code",
   "execution_count": null,
   "metadata": {},
   "outputs": [],
   "source": [
    "#tabela gamer\n",
    "#tabela noraml\n",
    "\n",
    "dataNOR=data\n",
    "dataGAMER=data\n"
   ]
  },
  {
   "cell_type": "code",
   "execution_count": null,
   "metadata": {},
   "outputs": [],
   "source": [
    "for c in categorias0:\n",
    "    plot_hist(data,c)"
   ]
  },
  {
   "cell_type": "code",
   "execution_count": null,
   "metadata": {},
   "outputs": [],
   "source": [
    "for c in categorias1:\n",
    "    plot_hist(data,c)"
   ]
  },
  {
   "cell_type": "code",
   "execution_count": null,
   "metadata": {},
   "outputs": [],
   "source": [
    "idade=px.histogram(data, x='idade',y=\"count\")\n",
    "joga=px.histogram(data, x=\"idade\", color=\"joga\")\n",
    "sex=px.pie(data, values='count', names='genero')"
   ]
  },
  {
   "cell_type": "code",
   "execution_count": null,
   "metadata": {},
   "outputs": [],
   "source": [
    "joga.show()"
   ]
  },
  {
   "cell_type": "code",
   "execution_count": null,
   "metadata": {},
   "outputs": [],
   "source": [
    "data['ocupacao'].value_counts()"
   ]
  },
  {
   "cell_type": "code",
   "execution_count": null,
   "metadata": {},
   "outputs": [],
   "source": [
    "# comparando Estudante;Desempregado com Estudante;Trabalhador\n",
    "\n",
    "array = [\"Estudante;Desempregado\",\"Estudante;Trabalhador\"]\n",
    "\n",
    "Estudantes=data.loc[data['ocupacao'].isin(array)]\n",
    "\n",
    "arrayEmprego = [\"Estudante\",\"Trabalhador\"]\n",
    "\n",
    "Emprego=data.loc[data['ocupacao'].isin(arrayEmprego)]\n",
    "\n",
    "arrayAposentado = [\"Aposentado;Trabalhador\",\"Aposentado\"]\n",
    "\n",
    "Aposentado=data.loc[data['ocupacao'].isin(arrayAposentado)]\n"
   ]
  },
  {
   "cell_type": "code",
   "execution_count": null,
   "metadata": {},
   "outputs": [],
   "source": [
    "data.head(3)"
   ]
  },
  {
   "cell_type": "code",
   "execution_count": null,
   "metadata": {},
   "outputs": [],
   "source": [
    "for c in categorias1:\n",
    "\n",
    "    print(data[c].value_counts(1)) #ver dados bem distribuidos \n",
    "    "
   ]
  },
  {
   "cell_type": "code",
   "execution_count": null,
   "metadata": {},
   "outputs": [],
   "source": [
    "categorias_todas"
   ]
  },
  {
   "cell_type": "code",
   "execution_count": null,
   "metadata": {},
   "outputs": [],
   "source": [
    "tempdf=data.groupby(['ingles','joga']).joga.count().unstack().fillna(0)\n",
    "tempdf['total']=data['ingles'].value_counts()\n",
    "tempdf['0 em %']=tempdf[0]/tempdf['total']*100\n",
    "tempdf['1 em %']=tempdf[1]/tempdf['total']*100\n",
    "tempdf\n",
    "# quanto maior o seu conhecimento mais provavel de vc jogar"
   ]
  },
  {
   "cell_type": "code",
   "execution_count": null,
   "metadata": {},
   "outputs": [],
   "source": [
    "print(data['fav_jogos'])\n",
    "tempdf=data['fav_jogos']\n",
    "\n",
    "CategoriaJogos=[]\n",
    "CategoriaJogosValor = []\n",
    "for x in range(tempdf.size):\n",
    "  strCategoria = str(tempdf[x]).split(\";\")\n",
    "  for c in strCategoria:\n",
    "    if(c == 'Estrategia'):\n",
    "      c = 'Estratégia'\n",
    "    if(c != 'nan' and not(c in CategoriaJogos)):\n",
    "        CategoriaJogos.append(c)\n",
    "        CategoriaJogosValor.append(1)\n",
    "    elif(c != 'nan'):\n",
    "      CategoriaJogosValor[CategoriaJogos.index(c)] += 1\n",
    "\n",
    "\n",
    "zip_iterator = zip(CategoriaJogos, CategoriaJogosValor)\n",
    "FavJogos = dict(zip_iterator)\n",
    "FavJogos.pop('OUTER WILDS')\n",
    "FavJogos.pop('Sandbox')\n",
    "FavJogos.pop('Jogos hype')\n",
    "FavJogos.pop('Mundo aberto ')\n",
    "FavJogos.pop('Mostly multiplayer')\n",
    "FavJogos.pop('ritmo')\n",
    "FavJogos.pop('Cozinhar')\n",
    "FavJogos.pop('Visual Novels')\n",
    "FavJogos.pop('Survival')\n",
    "FavJogos.pop('Roguelike')\n",
    "print(FavJogos)"
   ]
  },
  {
   "cell_type": "code",
   "execution_count": null,
   "metadata": {},
   "outputs": [],
   "source": [
    "sns.countplot(x='paga', data=data, hue='assina').set(title='assinatura')"
   ]
  },
  {
   "cell_type": "code",
   "execution_count": null,
   "metadata": {},
   "outputs": [],
   "source": [
    "\n",
    "sns.countplot(x='joga', data=data, hue='ingles').set(title='ingles_nivel')\n"
   ]
  },
  {
   "cell_type": "code",
   "execution_count": null,
   "metadata": {},
   "outputs": [],
   "source": [
    "\n",
    "sns.countplot(x='quant_jogos', data=Emprego, hue='ocupacao').set(title='Quant_assina')\n",
    "#maioria dos consumidores sao estudantes\n"
   ]
  }
 ],
 "metadata": {
  "interpreter": {
   "hash": "5405d358ce7193976977390717ecdfa00f4a32b6b43d10fb8824297b8cc6d47c"
  },
  "kernelspec": {
   "display_name": "Python 3.9.13 64-bit (windows store)",
   "language": "python",
   "name": "python3"
  },
  "language_info": {
   "codemirror_mode": {
    "name": "ipython",
    "version": 3
   },
   "file_extension": ".py",
   "mimetype": "text/x-python",
   "name": "python",
   "nbconvert_exporter": "python",
   "pygments_lexer": "ipython3",
   "version": "3.9.13"
  },
  "orig_nbformat": 4
 },
 "nbformat": 4,
 "nbformat_minor": 2
}
